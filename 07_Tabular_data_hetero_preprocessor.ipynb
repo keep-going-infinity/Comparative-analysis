{
 "cells": [
  {
   "cell_type": "code",
   "execution_count": 1,
   "metadata": {
    "tags": []
   },
   "outputs": [],
   "source": [
    "# -----------------------------------------------------------\n",
    "# Dissertation Project: An Empirical Study on the Classification \n",
    "# Performance of Deep Learning vs. Gradient Boosting \n",
    "# on heterogeneous tabular data\n",
    "#\n",
    "# This module provides functions for data-preprocessing before the \n",
    "# data is fed into the models NODE, TabNet, FFNN, and XGBoost. \n",
    "#\n",
    "# Author: Adam Mabrouk\n",
    "# Supervisor: Ben Ralph\n",
    "# Institution: University of Bath\n",
    "# Created on: 01/01/2024\n",
    "# Version: 1.0 \n",
    "# -----------------------------------------------------------"
   ]
  },
  {
   "cell_type": "code",
   "execution_count": 2,
   "metadata": {
    "ExecuteTime": {
     "end_time": "2024-01-26T10:21:01.173182Z",
     "start_time": "2024-01-26T10:21:01.162434Z"
    },
    "colab": {
     "base_uri": "https://localhost:8080/",
     "height": 392
    },
    "executionInfo": {
     "elapsed": 33243,
     "status": "ok",
     "timestamp": 1705603093638,
     "user": {
      "displayName": "Adam Mabrouk",
      "userId": "04204959827212434409"
     },
     "user_tz": 0
    },
    "id": "cuAdH6fj70At",
    "outputId": "5685de63-c4d7-42ab-efff-8d635b2f5f8c",
    "tags": []
   },
   "outputs": [
    {
     "name": "stderr",
     "output_type": "stream",
     "text": [
      "2024-01-27 16:55:16.909601: I tensorflow/core/platform/cpu_feature_guard.cc:182] This TensorFlow binary is optimized to use available CPU instructions in performance-critical operations.\n",
      "To enable the following instructions: AVX2 AVX512F AVX512_VNNI FMA, in other operations, rebuild TensorFlow with the appropriate compiler flags.\n"
     ]
    }
   ],
   "source": [
    "# Libraries and versions\n",
    "# ----------------------\n",
    "# Python version: 3.11.5 \n",
    "# numpy: 1.24.3\n",
    "# pandas: 2.0.3\n",
    "# imbalanced-learn: 0.12.0\n",
    "# scikit-learn: 1.4.0\n",
    "# tensorflow: 2.15.0\n",
    "\n",
    "\n",
    "# Imports for data handling and visualisation \n",
    "import numpy as np\n",
    "import pandas as pd\n",
    "import os\n",
    "\n",
    "from Tabular_loader_class import DataSet, DataLoader, DataPreprocessor\n"
   ]
  },
  {
   "cell_type": "code",
   "execution_count": 3,
   "metadata": {
    "ExecuteTime": {
     "end_time": "2024-01-26T10:24:12.408371Z",
     "start_time": "2024-01-26T10:24:12.243749Z"
    },
    "colab": {
     "base_uri": "https://localhost:8080/"
    },
    "executionInfo": {
     "elapsed": 44768,
     "status": "ok",
     "timestamp": 1705603138397,
     "user": {
      "displayName": "Adam Mabrouk",
      "userId": "04204959827212434409"
     },
     "user_tz": 0
    },
    "id": "3qw5JP8w706N",
    "outputId": "92111384-f6fd-43cc-f74a-5c47500af4d4",
    "tags": []
   },
   "outputs": [],
   "source": [
    "# Lending Club\n",
    "lending_club = DataSet(file_path=\"feature_engineered_model_data/lending_club_feature_engineered.csv\", \n",
    "                       \n",
    "                       y_label=\"loan_status\",\n",
    "\n",
    "                       categorical_columns = ['purpose',\n",
    "                                              'home_ownership',\n",
    "                                              'term',\n",
    "                                              'sub_grade_numbers'],\n",
    "\n",
    "                       excluded_columns = [],\n",
    "                       output_path='lending_club_model_data',\n",
    "\n",
    "                       subset_size = 8000, \n",
    "                       sub_sample_first=True,\n",
    "                       train_split_ratio = 1 - 2 * (1_000/770_000),\n",
    "                       use_undersampling=False,\n",
    "                       use_oversampling=True,\n",
    "                       encoding_type='label',\n",
    "                       use_embeddings=True)\n",
    "\n",
    "# HELOC: No balancer applied and due to the size of the datasets no subset_size needed.\n",
    "heloc = DataSet(file_path=\"feature_engineered_model_data/heloc_feature_engineered.csv\",\n",
    "\n",
    "                y_label='RiskPerformance',\n",
    "                \n",
    "                excluded_columns= [\"AverageMInFile\",\n",
    "                                  \"NumTrades90Ever2DerogPubRec\",\n",
    "                                  \"NumTradesOpeninLast12M\",\n",
    "                                  \"PercentInstallTrades\",\n",
    "                                  \"NumInqLast6M\",\n",
    "                                  \"NumInstallTradesWBalance\",\n",
    "                                  \"NetFractionInstallBurden\",\n",
    "                                  \"NumRevolvingTradesWBalance\",\n",
    "                                  \"PercentTradesWBalance\",\n",
    "                                  'NumSatisfactoryTrades',\n",
    "                                  \"NumBank2NatlTradesWHighUtilization\"],\n",
    "\n",
    "                # encode\n",
    "                categorical_columns= [\"MaxDelqEver\",\n",
    "                                      \"MaxDelq2PublicRecLast12M\"],\n",
    "                \n",
    "                output_path='heloc_model_data',\n",
    "                encoding_type='label',\n",
    "                train_split_ratio = 0.8,\n",
    "                use_embeddings=True)\n",
    "\n",
    "# CREDIT DEFAULT\n",
    "credit_default = DataSet(file_path=\"feature_engineered_model_data/credit_default_feature_engineered.csv\",\n",
    "                         y_label='default_payment_next_month',\n",
    "                         categorical_columns= ['SEX', 'EDUCATION', 'MARRIAGE'],\n",
    "                         output_path='credit_default_model_data',\n",
    "                         train_split_ratio = 0.8,\n",
    "                         use_undersampling=False,\n",
    "                         use_oversampling=True,\n",
    "                         encoding_type='label',\n",
    "                         use_embeddings=True)\n",
    "\n",
    "# ADULT INCOME\n",
    "adult_income = DataSet(file_path=\"feature_engineered_model_data/income_evaluation_feature_engineered.csv\",\n",
    "                       y_label='income',\n",
    "                       \n",
    "                        categorical_columns=[\"workclass\",\n",
    "                                            \"marital-status\",\n",
    "                                            \"occupation\",\n",
    "                                            \"relationship\",\n",
    "                                            \"race\",\n",
    "                                            \"sex\",\n",
    "                                            \"native-country\"],\n",
    "\n",
    "                       output_path=\"income_evaluation_model_data\",\n",
    "                       train_split_ratio = 0.8,\n",
    "                       use_undersampling = False,\n",
    "                       use_oversampling=True,\n",
    "                       encoding_type='label',\n",
    "                       use_embeddings=True)\n",
    "\n",
    "for dataset in [lending_club, heloc, credit_default, adult_income]:\n",
    "    data_loader = DataLoader(dataset.file_path,\n",
    "                             y_label=dataset.y_label,\n",
    "                             train_split_ratio=dataset.train_split_ratio,\n",
    "                             subset_size=dataset.subset_size,\n",
    "                             categorical_columns=dataset.categorical_columns,\n",
    "                             excluded_columns = dataset.excluded_columns,\n",
    "                             use_undersampling=dataset.use_undersampling,\n",
    "                             use_oversampling=dataset.use_oversampling,\n",
    "                             sub_sample_first=dataset.sub_sample_first)\n",
    "    \n",
    "    X_train, X_val, X_test, y_train, y_val, y_test = data_loader.get_data()\n",
    "\n",
    "    data_processor = DataProcessor(use_embeddings=dataset.use_embeddings,\n",
    "                                   categorical_columns = dataset.categorical_columns,\n",
    "                                   encoding_type=dataset.encoding_type)\n",
    "    \n",
    "    data_processor.fit(X_train)\n",
    "    \n",
    "    X_train = data_processor.transform(X_train)\n",
    "    X_val = data_processor.transform(X_val)\n",
    "    X_test = data_processor.transform(X_test)\n",
    "    \n",
    "    folder_name = dataset.output_path\n",
    "    os.makedirs(folder_name, exist_ok=True)\n",
    "\n",
    "    X_train_path = os.path.join(folder_name, 'X_train.csv')\n",
    "    X_val_path = os.path.join(folder_name, 'X_val.csv')\n",
    "    X_test_path = os.path.join(folder_name, 'X_test.csv')\n",
    "    y_train_path = os.path.join(folder_name, 'y_train.csv')\n",
    "    y_val_path = os.path.join(folder_name, 'y_val.csv')\n",
    "    y_test_path = os.path.join(folder_name, 'y_test.csv')\n",
    "\n",
    "    X_train.copy().to_csv(X_train_path, index=False)\n",
    "    X_val.copy().to_csv(X_val_path, index=False)\n",
    "    X_test.copy().to_csv(X_test_path, index=False)\n",
    "    y_train.copy().to_csv(y_train_path, index=False)\n",
    "    y_val.copy().to_csv(y_val_path, index=False)\n",
    "    y_test.copy().to_csv(y_test_path, index=False)"
   ]
  },
  {
   "cell_type": "markdown",
   "metadata": {
    "id": "-DPehXDoKQ7i"
   },
   "source": []
  },
  {
   "cell_type": "code",
   "execution_count": null,
   "metadata": {
    "executionInfo": {
     "elapsed": 3,
     "status": "ok",
     "timestamp": 1705603138827,
     "user": {
      "displayName": "Adam Mabrouk",
      "userId": "04204959827212434409"
     },
     "user_tz": 0
    },
    "id": "ua7CGb1mzgSE"
   },
   "outputs": [],
   "source": []
  }
 ],
 "metadata": {
  "colab": {
   "authorship_tag": "ABX9TyM8/GUarBbtio+rJGrPC2zR",
   "machine_shape": "hm",
   "provenance": []
  },
  "kernelspec": {
   "display_name": "Python 3 (ipykernel)",
   "language": "python",
   "name": "python3"
  },
  "language_info": {
   "codemirror_mode": {
    "name": "ipython",
    "version": 3
   },
   "file_extension": ".py",
   "mimetype": "text/x-python",
   "name": "python",
   "nbconvert_exporter": "python",
   "pygments_lexer": "ipython3",
   "version": "3.11.5"
  }
 },
 "nbformat": 4,
 "nbformat_minor": 4
}
