{
 "cells": [
  {
   "cell_type": "code",
   "execution_count": 1,
   "metadata": {
    "colab": {
     "base_uri": "https://localhost:8080/"
    },
    "executionInfo": {
     "elapsed": 1430,
     "status": "ok",
     "timestamp": 1701629836830,
     "user": {
      "displayName": "Adam Mabrouk",
      "userId": "04204959827212434409"
     },
     "user_tz": 0
    },
    "id": "bM1Ex5nBkaQ_",
    "outputId": "650e473f-21bf-4197-c41b-13d5bf1e745d",
    "tags": []
   },
   "outputs": [],
   "source": [
    "# -----------------------------------------------------------\n",
    "# Dissertation Project: An Empirical Study on the Classification \n",
    "# Performance of Deep Learning vs. Gradient Boosting \n",
    "# on heterogeneous tabular data\n",
    "#\n",
    "# This notebook provides functions for the preprocessing of the \n",
    "# Adult Income dataset. \n",
    "#\n",
    "# Author: Adam Mabrouk\n",
    "# Supervisor: Ben Ralph\n",
    "# Institution: University of Bath\n",
    "# Created on: 01/01/2024\n",
    "# Version: 1.0 \n",
    "\n",
    "# Libraries and versions\n",
    "# ----------------------\n",
    "# Python version: 3.11.5 \n",
    "# numpy: 1.24.3\n",
    "# pandas: 2.0.3\n",
    "\n",
    "# Import standard libraries for data handling,\n",
    "import pandas as pd\n",
    "import numpy as np"
   ]
  },
  {
   "cell_type": "code",
   "execution_count": 2,
   "metadata": {
    "id": "3vIETmknKVXo",
    "tags": []
   },
   "outputs": [],
   "source": [
    "class DataCleaner:\n",
    "    \"\"\"A class to clean the income evaluation dataset.\"\"\"\n",
    "\n",
    "    def __init__(self, income_evaluation_file_path):\n",
    "        \"\"\" \n",
    "            Args:\n",
    "                income_evaluation_file_path (str)\"\"\"\n",
    "        self.income_evaluation_file_path = income_evaluation_file_path\n",
    "        self.data = pd.read_csv(self.income_evaluation_file_path, low_memory=False)\n",
    "        \n",
    "\n",
    "        \"\"\" The first 6 rows below are Continuous variables.\n",
    "            \n",
    "                        \"age\"             \n",
    "                        \"fnlwgt\"          # Varibles stands for 'Final weight'. The number of people the census believes the entry represents\n",
    "                                            This variabls is dropped as it does not contribute to the model's performance\n",
    "                        \"education-num\"   # The number of people in varying levels of education.\n",
    "                        \"capital-gain\"    # Income from investment sources, apart from wages/salary\n",
    "                        \"capital-loss\"    # Losses from investment sources, apart from wages/salary\n",
    "                        \"hours-per-week\"  # Number of hours worked per week\n",
    "\n",
    "                        The 8 variables below are ordinal categorical attributes\n",
    "\n",
    "                        \"workclass\"       # The working class (e.g., State-gov, Self-emp-not-inc)\n",
    "                        \"education\"       # The highest level of education achieved\n",
    "                        \"marital-status\"  \n",
    "                        \"occupation\"      \n",
    "                        \"relationship\"    \n",
    "                        \"race\"            \n",
    "                        \"sex\"             \n",
    "                        \"native-country\"    \"\"\"\n",
    "\n",
    "    def remove_spaces_in_columns_and_values(self):\n",
    "        \"\"\" This function removes the white spaces from the column names and values in the dataset.\"\"\"\n",
    "        self.data.rename(columns=lambda x: x.strip().replace(' ', '_'), inplace=True)\n",
    "        for col in self.data.columns:\n",
    "            if self.data[col].dtype == 'object':\n",
    "                self.data[col] = self.data[col].str.strip()\n",
    "\n",
    "    def drop_columns(self):\n",
    "        \"\"\"This function is used to drop the columns \"fnlwgt\", \"education\", \n",
    "        Education-num provides more informed information for the model\"\"\"\n",
    "        self.exclude_features = [\"fnlwgt\", \"education\"]\n",
    "        self.data.drop(columns=self.exclude_features, inplace=True)\n",
    "\n",
    "    def drop_value_in_columns(self):\n",
    "        \"This function drops the instance 'Armed-Forces' which has one row.\"\n",
    "        self.data = self.data[self.data['occupation'] != 'Armed-Forces']\n",
    "\n",
    "    def removing_placeholders(self):\n",
    "        \"\"\"This function removes place holders in the variables below, which \n",
    "        need to be removed as they negatively affect the model\"\"\"\n",
    "        self.data['workclass'] = self.data['workclass'].replace('?', 'Unknown')\n",
    "        self.data['occupation'] = self.data['occupation'].replace('?', 'Unknown')\n",
    "        self.data['native-country'] = self.data['native-country'].replace('?', 'Unknown')\n",
    "\n",
    "    def set_binary_value(self):\n",
    "        \"\"\"The function below maps the target variable to binary output\"\"\"\n",
    "        self.label_column = 'income'\n",
    "        self.label_mapping = {'>50K': 1, '<=50K': 0,}\n",
    "        self.data[self.label_column] = self.data[self.label_column].map(self.label_mapping)\n",
    "\n",
    "    def save_data(self, income_evaluation_file_path):\n",
    "        \"\"\"Args:\n",
    "            file_path (str) \"income_evaluation_feature_engineered.csv\" \"\"\"\n",
    "        self.data.to_csv(income_evaluation_file_path, index=False)\n",
    "\n",
    "    def clean_data(self):\n",
    "        \"\"\"\n",
    "        This function enables the user to runs all feature methods used in the dataset\n",
    "        Please see below for a summary of each feature.\n",
    "        \"\"\"\n",
    "        self.remove_spaces_in_columns_and_values()\n",
    "        self.drop_columns()\n",
    "        self.drop_value_in_columns()\n",
    "        self.removing_placeholders()\n",
    "        self.set_binary_value()\n",
    "\n",
    "clean = DataCleaner(\"raw_datasets/income_evaluation.csv\")\n",
    "clean.clean_data()\n",
    "clean.save_data(\"feature_engineered_model_data/income_evaluation_feature_engineered.csv\")"
   ]
  },
  {
   "cell_type": "code",
   "execution_count": 3,
   "metadata": {
    "tags": []
   },
   "outputs": [
    {
     "data": {
      "text/html": [
       "<div>\n",
       "<style scoped>\n",
       "    .dataframe tbody tr th:only-of-type {\n",
       "        vertical-align: middle;\n",
       "    }\n",
       "\n",
       "    .dataframe tbody tr th {\n",
       "        vertical-align: top;\n",
       "    }\n",
       "\n",
       "    .dataframe thead th {\n",
       "        text-align: right;\n",
       "    }\n",
       "</style>\n",
       "<table border=\"1\" class=\"dataframe\">\n",
       "  <thead>\n",
       "    <tr style=\"text-align: right;\">\n",
       "      <th></th>\n",
       "      <th>age</th>\n",
       "      <th>workclass</th>\n",
       "      <th>education-num</th>\n",
       "      <th>marital-status</th>\n",
       "      <th>occupation</th>\n",
       "      <th>relationship</th>\n",
       "      <th>race</th>\n",
       "      <th>sex</th>\n",
       "      <th>capital-gain</th>\n",
       "      <th>capital-loss</th>\n",
       "      <th>hours-per-week</th>\n",
       "      <th>native-country</th>\n",
       "      <th>income</th>\n",
       "    </tr>\n",
       "  </thead>\n",
       "  <tbody>\n",
       "    <tr>\n",
       "      <th>0</th>\n",
       "      <td>39</td>\n",
       "      <td>State-gov</td>\n",
       "      <td>13</td>\n",
       "      <td>Never-married</td>\n",
       "      <td>Adm-clerical</td>\n",
       "      <td>Not-in-family</td>\n",
       "      <td>White</td>\n",
       "      <td>Male</td>\n",
       "      <td>2174</td>\n",
       "      <td>0</td>\n",
       "      <td>40</td>\n",
       "      <td>United-States</td>\n",
       "      <td>0</td>\n",
       "    </tr>\n",
       "    <tr>\n",
       "      <th>1</th>\n",
       "      <td>50</td>\n",
       "      <td>Self-emp-not-inc</td>\n",
       "      <td>13</td>\n",
       "      <td>Married-civ-spouse</td>\n",
       "      <td>Exec-managerial</td>\n",
       "      <td>Husband</td>\n",
       "      <td>White</td>\n",
       "      <td>Male</td>\n",
       "      <td>0</td>\n",
       "      <td>0</td>\n",
       "      <td>13</td>\n",
       "      <td>United-States</td>\n",
       "      <td>0</td>\n",
       "    </tr>\n",
       "    <tr>\n",
       "      <th>2</th>\n",
       "      <td>38</td>\n",
       "      <td>Private</td>\n",
       "      <td>9</td>\n",
       "      <td>Divorced</td>\n",
       "      <td>Handlers-cleaners</td>\n",
       "      <td>Not-in-family</td>\n",
       "      <td>White</td>\n",
       "      <td>Male</td>\n",
       "      <td>0</td>\n",
       "      <td>0</td>\n",
       "      <td>40</td>\n",
       "      <td>United-States</td>\n",
       "      <td>0</td>\n",
       "    </tr>\n",
       "    <tr>\n",
       "      <th>3</th>\n",
       "      <td>53</td>\n",
       "      <td>Private</td>\n",
       "      <td>7</td>\n",
       "      <td>Married-civ-spouse</td>\n",
       "      <td>Handlers-cleaners</td>\n",
       "      <td>Husband</td>\n",
       "      <td>Black</td>\n",
       "      <td>Male</td>\n",
       "      <td>0</td>\n",
       "      <td>0</td>\n",
       "      <td>40</td>\n",
       "      <td>United-States</td>\n",
       "      <td>0</td>\n",
       "    </tr>\n",
       "    <tr>\n",
       "      <th>4</th>\n",
       "      <td>28</td>\n",
       "      <td>Private</td>\n",
       "      <td>13</td>\n",
       "      <td>Married-civ-spouse</td>\n",
       "      <td>Prof-specialty</td>\n",
       "      <td>Wife</td>\n",
       "      <td>Black</td>\n",
       "      <td>Female</td>\n",
       "      <td>0</td>\n",
       "      <td>0</td>\n",
       "      <td>40</td>\n",
       "      <td>Cuba</td>\n",
       "      <td>0</td>\n",
       "    </tr>\n",
       "  </tbody>\n",
       "</table>\n",
       "</div>"
      ],
      "text/plain": [
       "   age         workclass  education-num      marital-status  \\\n",
       "0   39         State-gov             13       Never-married   \n",
       "1   50  Self-emp-not-inc             13  Married-civ-spouse   \n",
       "2   38           Private              9            Divorced   \n",
       "3   53           Private              7  Married-civ-spouse   \n",
       "4   28           Private             13  Married-civ-spouse   \n",
       "\n",
       "          occupation   relationship   race     sex  capital-gain  \\\n",
       "0       Adm-clerical  Not-in-family  White    Male          2174   \n",
       "1    Exec-managerial        Husband  White    Male             0   \n",
       "2  Handlers-cleaners  Not-in-family  White    Male             0   \n",
       "3  Handlers-cleaners        Husband  Black    Male             0   \n",
       "4     Prof-specialty           Wife  Black  Female             0   \n",
       "\n",
       "   capital-loss  hours-per-week native-country  income  \n",
       "0             0              40  United-States       0  \n",
       "1             0              13  United-States       0  \n",
       "2             0              40  United-States       0  \n",
       "3             0              40  United-States       0  \n",
       "4             0              40           Cuba       0  "
      ]
     },
     "execution_count": 3,
     "metadata": {},
     "output_type": "execute_result"
    }
   ],
   "source": [
    "clean.data.head()"
   ]
  },
  {
   "cell_type": "markdown",
   "metadata": {},
   "source": [
    "#### Below is a closer analysis of the all features, including target variable and additional features of interest after processing. \n",
    "In summary apart from standard cleaning to the data, the columns 'Education' and 'fnlwgt ' were removed."
   ]
  },
  {
   "cell_type": "code",
   "execution_count": 4,
   "metadata": {
    "colab": {
     "base_uri": "https://localhost:8080/",
     "height": 110
    },
    "executionInfo": {
     "elapsed": 19,
     "status": "ok",
     "timestamp": 1701629837354,
     "user": {
      "displayName": "Adam Mabrouk",
      "userId": "04204959827212434409"
     },
     "user_tz": 0
    },
    "id": "jzYrL9_IpjEX",
    "outputId": "6f7e1484-84cc-4a2c-a303-e94b516b8573",
    "tags": []
   },
   "outputs": [
    {
     "data": {
      "text/html": [
       "<div>\n",
       "<style scoped>\n",
       "    .dataframe tbody tr th:only-of-type {\n",
       "        vertical-align: middle;\n",
       "    }\n",
       "\n",
       "    .dataframe tbody tr th {\n",
       "        vertical-align: top;\n",
       "    }\n",
       "\n",
       "    .dataframe thead th {\n",
       "        text-align: right;\n",
       "    }\n",
       "</style>\n",
       "<table border=\"1\" class=\"dataframe\">\n",
       "  <thead>\n",
       "    <tr style=\"text-align: right;\">\n",
       "      <th>age</th>\n",
       "      <th>17</th>\n",
       "      <th>18</th>\n",
       "      <th>19</th>\n",
       "      <th>20</th>\n",
       "      <th>21</th>\n",
       "      <th>22</th>\n",
       "      <th>23</th>\n",
       "      <th>24</th>\n",
       "      <th>25</th>\n",
       "      <th>26</th>\n",
       "      <th>...</th>\n",
       "      <th>80</th>\n",
       "      <th>81</th>\n",
       "      <th>82</th>\n",
       "      <th>83</th>\n",
       "      <th>84</th>\n",
       "      <th>85</th>\n",
       "      <th>86</th>\n",
       "      <th>87</th>\n",
       "      <th>88</th>\n",
       "      <th>90</th>\n",
       "    </tr>\n",
       "  </thead>\n",
       "  <tbody>\n",
       "    <tr>\n",
       "      <th>count</th>\n",
       "      <td>395</td>\n",
       "      <td>550</td>\n",
       "      <td>712</td>\n",
       "      <td>753</td>\n",
       "      <td>720</td>\n",
       "      <td>765</td>\n",
       "      <td>875</td>\n",
       "      <td>796</td>\n",
       "      <td>841</td>\n",
       "      <td>785</td>\n",
       "      <td>...</td>\n",
       "      <td>22</td>\n",
       "      <td>20</td>\n",
       "      <td>12</td>\n",
       "      <td>6</td>\n",
       "      <td>10</td>\n",
       "      <td>3</td>\n",
       "      <td>1</td>\n",
       "      <td>1</td>\n",
       "      <td>3</td>\n",
       "      <td>43</td>\n",
       "    </tr>\n",
       "  </tbody>\n",
       "</table>\n",
       "<p>1 rows × 73 columns</p>\n",
       "</div>"
      ],
      "text/plain": [
       "age     17   18   19   20   21   22   23   24   25   26  ...  80  81  82  83  \\\n",
       "count  395  550  712  753  720  765  875  796  841  785  ...  22  20  12   6   \n",
       "\n",
       "age    84  85  86  87  88  90  \n",
       "count  10   3   1   1   3  43  \n",
       "\n",
       "[1 rows x 73 columns]"
      ]
     },
     "execution_count": 4,
     "metadata": {},
     "output_type": "execute_result"
    }
   ],
   "source": [
    "clean.data[\"age\"].value_counts().sort_index().to_frame().T"
   ]
  },
  {
   "cell_type": "code",
   "execution_count": 5,
   "metadata": {
    "colab": {
     "base_uri": "https://localhost:8080/",
     "height": 81
    },
    "executionInfo": {
     "elapsed": 18,
     "status": "ok",
     "timestamp": 1701629837354,
     "user": {
      "displayName": "Adam Mabrouk",
      "userId": "04204959827212434409"
     },
     "user_tz": 0
    },
    "id": "vr9CD7zzpj_l",
    "outputId": "c7dbed0a-c658-44f3-d946-af3b654b6c54",
    "tags": []
   },
   "outputs": [
    {
     "data": {
      "text/html": [
       "<div>\n",
       "<style scoped>\n",
       "    .dataframe tbody tr th:only-of-type {\n",
       "        vertical-align: middle;\n",
       "    }\n",
       "\n",
       "    .dataframe tbody tr th {\n",
       "        vertical-align: top;\n",
       "    }\n",
       "\n",
       "    .dataframe thead th {\n",
       "        text-align: right;\n",
       "    }\n",
       "</style>\n",
       "<table border=\"1\" class=\"dataframe\">\n",
       "  <thead>\n",
       "    <tr style=\"text-align: right;\">\n",
       "      <th>workclass</th>\n",
       "      <th>Federal-gov</th>\n",
       "      <th>Local-gov</th>\n",
       "      <th>Never-worked</th>\n",
       "      <th>Private</th>\n",
       "      <th>Self-emp-inc</th>\n",
       "      <th>Self-emp-not-inc</th>\n",
       "      <th>State-gov</th>\n",
       "      <th>Unknown</th>\n",
       "      <th>Without-pay</th>\n",
       "    </tr>\n",
       "  </thead>\n",
       "  <tbody>\n",
       "    <tr>\n",
       "      <th>count</th>\n",
       "      <td>951</td>\n",
       "      <td>2093</td>\n",
       "      <td>7</td>\n",
       "      <td>22696</td>\n",
       "      <td>1116</td>\n",
       "      <td>2541</td>\n",
       "      <td>1298</td>\n",
       "      <td>1836</td>\n",
       "      <td>14</td>\n",
       "    </tr>\n",
       "  </tbody>\n",
       "</table>\n",
       "</div>"
      ],
      "text/plain": [
       "workclass  Federal-gov  Local-gov  Never-worked  Private  Self-emp-inc  \\\n",
       "count              951       2093             7    22696          1116   \n",
       "\n",
       "workclass  Self-emp-not-inc  State-gov  Unknown  Without-pay  \n",
       "count                  2541       1298     1836           14  "
      ]
     },
     "execution_count": 5,
     "metadata": {},
     "output_type": "execute_result"
    }
   ],
   "source": [
    "clean.data[\"workclass\"].value_counts().sort_index().to_frame().T"
   ]
  },
  {
   "cell_type": "code",
   "execution_count": 6,
   "metadata": {
    "colab": {
     "base_uri": "https://localhost:8080/",
     "height": 81
    },
    "executionInfo": {
     "elapsed": 17,
     "status": "ok",
     "timestamp": 1701629837354,
     "user": {
      "displayName": "Adam Mabrouk",
      "userId": "04204959827212434409"
     },
     "user_tz": 0
    },
    "id": "MuEsMutXpkDC",
    "outputId": "0d132b39-a629-4026-b0ef-d2c462aa1558",
    "tags": []
   },
   "outputs": [
    {
     "data": {
      "text/html": [
       "<div>\n",
       "<style scoped>\n",
       "    .dataframe tbody tr th:only-of-type {\n",
       "        vertical-align: middle;\n",
       "    }\n",
       "\n",
       "    .dataframe tbody tr th {\n",
       "        vertical-align: top;\n",
       "    }\n",
       "\n",
       "    .dataframe thead th {\n",
       "        text-align: right;\n",
       "    }\n",
       "</style>\n",
       "<table border=\"1\" class=\"dataframe\">\n",
       "  <thead>\n",
       "    <tr style=\"text-align: right;\">\n",
       "      <th>education-num</th>\n",
       "      <th>1</th>\n",
       "      <th>2</th>\n",
       "      <th>3</th>\n",
       "      <th>4</th>\n",
       "      <th>5</th>\n",
       "      <th>6</th>\n",
       "      <th>7</th>\n",
       "      <th>8</th>\n",
       "      <th>9</th>\n",
       "      <th>10</th>\n",
       "      <th>11</th>\n",
       "      <th>12</th>\n",
       "      <th>13</th>\n",
       "      <th>14</th>\n",
       "      <th>15</th>\n",
       "      <th>16</th>\n",
       "    </tr>\n",
       "  </thead>\n",
       "  <tbody>\n",
       "    <tr>\n",
       "      <th>count</th>\n",
       "      <td>51</td>\n",
       "      <td>168</td>\n",
       "      <td>333</td>\n",
       "      <td>646</td>\n",
       "      <td>514</td>\n",
       "      <td>933</td>\n",
       "      <td>1175</td>\n",
       "      <td>432</td>\n",
       "      <td>10497</td>\n",
       "      <td>7289</td>\n",
       "      <td>1382</td>\n",
       "      <td>1067</td>\n",
       "      <td>5354</td>\n",
       "      <td>1722</td>\n",
       "      <td>576</td>\n",
       "      <td>413</td>\n",
       "    </tr>\n",
       "  </tbody>\n",
       "</table>\n",
       "</div>"
      ],
      "text/plain": [
       "education-num  1    2    3    4    5    6     7    8      9     10    11  \\\n",
       "count          51  168  333  646  514  933  1175  432  10497  7289  1382   \n",
       "\n",
       "education-num    12    13    14   15   16  \n",
       "count          1067  5354  1722  576  413  "
      ]
     },
     "execution_count": 6,
     "metadata": {},
     "output_type": "execute_result"
    }
   ],
   "source": [
    "clean.data[\"education-num\"].value_counts().sort_index().to_frame().T"
   ]
  },
  {
   "cell_type": "code",
   "execution_count": 7,
   "metadata": {
    "colab": {
     "base_uri": "https://localhost:8080/",
     "height": 81
    },
    "executionInfo": {
     "elapsed": 16,
     "status": "ok",
     "timestamp": 1701629837354,
     "user": {
      "displayName": "Adam Mabrouk",
      "userId": "04204959827212434409"
     },
     "user_tz": 0
    },
    "id": "G3Y-w8GXocwp",
    "outputId": "c764a22a-0af2-4faa-c32d-e27a625b0c0e",
    "tags": []
   },
   "outputs": [
    {
     "data": {
      "text/html": [
       "<div>\n",
       "<style scoped>\n",
       "    .dataframe tbody tr th:only-of-type {\n",
       "        vertical-align: middle;\n",
       "    }\n",
       "\n",
       "    .dataframe tbody tr th {\n",
       "        vertical-align: top;\n",
       "    }\n",
       "\n",
       "    .dataframe thead th {\n",
       "        text-align: right;\n",
       "    }\n",
       "</style>\n",
       "<table border=\"1\" class=\"dataframe\">\n",
       "  <thead>\n",
       "    <tr style=\"text-align: right;\">\n",
       "      <th>marital-status</th>\n",
       "      <th>Divorced</th>\n",
       "      <th>Married-AF-spouse</th>\n",
       "      <th>Married-civ-spouse</th>\n",
       "      <th>Married-spouse-absent</th>\n",
       "      <th>Never-married</th>\n",
       "      <th>Separated</th>\n",
       "      <th>Widowed</th>\n",
       "    </tr>\n",
       "  </thead>\n",
       "  <tbody>\n",
       "    <tr>\n",
       "      <th>count</th>\n",
       "      <td>4443</td>\n",
       "      <td>23</td>\n",
       "      <td>14973</td>\n",
       "      <td>418</td>\n",
       "      <td>10677</td>\n",
       "      <td>1025</td>\n",
       "      <td>993</td>\n",
       "    </tr>\n",
       "  </tbody>\n",
       "</table>\n",
       "</div>"
      ],
      "text/plain": [
       "marital-status  Divorced  Married-AF-spouse  Married-civ-spouse  \\\n",
       "count               4443                 23               14973   \n",
       "\n",
       "marital-status  Married-spouse-absent  Never-married  Separated  Widowed  \n",
       "count                             418          10677       1025      993  "
      ]
     },
     "execution_count": 7,
     "metadata": {},
     "output_type": "execute_result"
    }
   ],
   "source": [
    "clean.data[\"marital-status\"].value_counts().sort_index().to_frame().T"
   ]
  },
  {
   "cell_type": "code",
   "execution_count": 8,
   "metadata": {
    "colab": {
     "base_uri": "https://localhost:8080/",
     "height": 98
    },
    "executionInfo": {
     "elapsed": 16,
     "status": "ok",
     "timestamp": 1701629837355,
     "user": {
      "displayName": "Adam Mabrouk",
      "userId": "04204959827212434409"
     },
     "user_tz": 0
    },
    "id": "ZL92LE5rocy3",
    "outputId": "c7dfd81a-c31b-4e92-82f1-82a47556ed9b",
    "tags": []
   },
   "outputs": [
    {
     "data": {
      "text/html": [
       "<div>\n",
       "<style scoped>\n",
       "    .dataframe tbody tr th:only-of-type {\n",
       "        vertical-align: middle;\n",
       "    }\n",
       "\n",
       "    .dataframe tbody tr th {\n",
       "        vertical-align: top;\n",
       "    }\n",
       "\n",
       "    .dataframe thead th {\n",
       "        text-align: right;\n",
       "    }\n",
       "</style>\n",
       "<table border=\"1\" class=\"dataframe\">\n",
       "  <thead>\n",
       "    <tr style=\"text-align: right;\">\n",
       "      <th>occupation</th>\n",
       "      <th>Adm-clerical</th>\n",
       "      <th>Craft-repair</th>\n",
       "      <th>Exec-managerial</th>\n",
       "      <th>Farming-fishing</th>\n",
       "      <th>Handlers-cleaners</th>\n",
       "      <th>Machine-op-inspct</th>\n",
       "      <th>Other-service</th>\n",
       "      <th>Priv-house-serv</th>\n",
       "      <th>Prof-specialty</th>\n",
       "      <th>Protective-serv</th>\n",
       "      <th>Sales</th>\n",
       "      <th>Tech-support</th>\n",
       "      <th>Transport-moving</th>\n",
       "      <th>Unknown</th>\n",
       "    </tr>\n",
       "  </thead>\n",
       "  <tbody>\n",
       "    <tr>\n",
       "      <th>count</th>\n",
       "      <td>3770</td>\n",
       "      <td>4099</td>\n",
       "      <td>4066</td>\n",
       "      <td>994</td>\n",
       "      <td>1370</td>\n",
       "      <td>2002</td>\n",
       "      <td>3295</td>\n",
       "      <td>149</td>\n",
       "      <td>4140</td>\n",
       "      <td>649</td>\n",
       "      <td>3650</td>\n",
       "      <td>928</td>\n",
       "      <td>1597</td>\n",
       "      <td>1843</td>\n",
       "    </tr>\n",
       "  </tbody>\n",
       "</table>\n",
       "</div>"
      ],
      "text/plain": [
       "occupation  Adm-clerical  Craft-repair  Exec-managerial  Farming-fishing  \\\n",
       "count               3770          4099             4066              994   \n",
       "\n",
       "occupation  Handlers-cleaners  Machine-op-inspct  Other-service  \\\n",
       "count                    1370               2002           3295   \n",
       "\n",
       "occupation  Priv-house-serv  Prof-specialty  Protective-serv  Sales  \\\n",
       "count                   149            4140              649   3650   \n",
       "\n",
       "occupation  Tech-support  Transport-moving  Unknown  \n",
       "count                928              1597     1843  "
      ]
     },
     "execution_count": 8,
     "metadata": {},
     "output_type": "execute_result"
    }
   ],
   "source": [
    "clean.data[\"occupation\"].value_counts().sort_index().to_frame().T"
   ]
  },
  {
   "cell_type": "code",
   "execution_count": 9,
   "metadata": {
    "colab": {
     "base_uri": "https://localhost:8080/",
     "height": 81
    },
    "executionInfo": {
     "elapsed": 15,
     "status": "ok",
     "timestamp": 1701629837355,
     "user": {
      "displayName": "Adam Mabrouk",
      "userId": "04204959827212434409"
     },
     "user_tz": 0
    },
    "id": "vHSXctf1oc1B",
    "outputId": "b1bb93b3-40c8-4506-8939-68ecb183727e",
    "tags": []
   },
   "outputs": [
    {
     "data": {
      "text/html": [
       "<div>\n",
       "<style scoped>\n",
       "    .dataframe tbody tr th:only-of-type {\n",
       "        vertical-align: middle;\n",
       "    }\n",
       "\n",
       "    .dataframe tbody tr th {\n",
       "        vertical-align: top;\n",
       "    }\n",
       "\n",
       "    .dataframe thead th {\n",
       "        text-align: right;\n",
       "    }\n",
       "</style>\n",
       "<table border=\"1\" class=\"dataframe\">\n",
       "  <thead>\n",
       "    <tr style=\"text-align: right;\">\n",
       "      <th>relationship</th>\n",
       "      <th>Husband</th>\n",
       "      <th>Not-in-family</th>\n",
       "      <th>Other-relative</th>\n",
       "      <th>Own-child</th>\n",
       "      <th>Unmarried</th>\n",
       "      <th>Wife</th>\n",
       "    </tr>\n",
       "  </thead>\n",
       "  <tbody>\n",
       "    <tr>\n",
       "      <th>count</th>\n",
       "      <td>13191</td>\n",
       "      <td>8301</td>\n",
       "      <td>979</td>\n",
       "      <td>5067</td>\n",
       "      <td>3446</td>\n",
       "      <td>1568</td>\n",
       "    </tr>\n",
       "  </tbody>\n",
       "</table>\n",
       "</div>"
      ],
      "text/plain": [
       "relationship  Husband  Not-in-family  Other-relative  Own-child  Unmarried  \\\n",
       "count           13191           8301             979       5067       3446   \n",
       "\n",
       "relationship  Wife  \n",
       "count         1568  "
      ]
     },
     "execution_count": 9,
     "metadata": {},
     "output_type": "execute_result"
    }
   ],
   "source": [
    "clean.data[\"relationship\"].value_counts().sort_index().to_frame().T"
   ]
  },
  {
   "cell_type": "code",
   "execution_count": 10,
   "metadata": {
    "colab": {
     "base_uri": "https://localhost:8080/",
     "height": 81
    },
    "executionInfo": {
     "elapsed": 345,
     "status": "ok",
     "timestamp": 1701629837686,
     "user": {
      "displayName": "Adam Mabrouk",
      "userId": "04204959827212434409"
     },
     "user_tz": 0
    },
    "id": "CHqEh9XKoc3P",
    "outputId": "98be3fb4-6ed1-4e6f-e08b-8d6893b240b7",
    "tags": []
   },
   "outputs": [
    {
     "data": {
      "text/html": [
       "<div>\n",
       "<style scoped>\n",
       "    .dataframe tbody tr th:only-of-type {\n",
       "        vertical-align: middle;\n",
       "    }\n",
       "\n",
       "    .dataframe tbody tr th {\n",
       "        vertical-align: top;\n",
       "    }\n",
       "\n",
       "    .dataframe thead th {\n",
       "        text-align: right;\n",
       "    }\n",
       "</style>\n",
       "<table border=\"1\" class=\"dataframe\">\n",
       "  <thead>\n",
       "    <tr style=\"text-align: right;\">\n",
       "      <th>race</th>\n",
       "      <th>Amer-Indian-Eskimo</th>\n",
       "      <th>Asian-Pac-Islander</th>\n",
       "      <th>Black</th>\n",
       "      <th>Other</th>\n",
       "      <th>White</th>\n",
       "    </tr>\n",
       "  </thead>\n",
       "  <tbody>\n",
       "    <tr>\n",
       "      <th>count</th>\n",
       "      <td>310</td>\n",
       "      <td>1039</td>\n",
       "      <td>3123</td>\n",
       "      <td>271</td>\n",
       "      <td>27809</td>\n",
       "    </tr>\n",
       "  </tbody>\n",
       "</table>\n",
       "</div>"
      ],
      "text/plain": [
       "race   Amer-Indian-Eskimo  Asian-Pac-Islander  Black  Other  White\n",
       "count                 310                1039   3123    271  27809"
      ]
     },
     "execution_count": 10,
     "metadata": {},
     "output_type": "execute_result"
    }
   ],
   "source": [
    "clean.data[\"race\"].value_counts().sort_index().to_frame().T"
   ]
  },
  {
   "cell_type": "code",
   "execution_count": 11,
   "metadata": {
    "colab": {
     "base_uri": "https://localhost:8080/",
     "height": 81
    },
    "executionInfo": {
     "elapsed": 23,
     "status": "ok",
     "timestamp": 1701629837686,
     "user": {
      "displayName": "Adam Mabrouk",
      "userId": "04204959827212434409"
     },
     "user_tz": 0
    },
    "id": "RRgWHMNRoc5S",
    "outputId": "53bbbb40-e56b-4ddf-842c-c1ba40a27ef5",
    "tags": []
   },
   "outputs": [
    {
     "data": {
      "text/html": [
       "<div>\n",
       "<style scoped>\n",
       "    .dataframe tbody tr th:only-of-type {\n",
       "        vertical-align: middle;\n",
       "    }\n",
       "\n",
       "    .dataframe tbody tr th {\n",
       "        vertical-align: top;\n",
       "    }\n",
       "\n",
       "    .dataframe thead th {\n",
       "        text-align: right;\n",
       "    }\n",
       "</style>\n",
       "<table border=\"1\" class=\"dataframe\">\n",
       "  <thead>\n",
       "    <tr style=\"text-align: right;\">\n",
       "      <th>sex</th>\n",
       "      <th>Female</th>\n",
       "      <th>Male</th>\n",
       "    </tr>\n",
       "  </thead>\n",
       "  <tbody>\n",
       "    <tr>\n",
       "      <th>count</th>\n",
       "      <td>10771</td>\n",
       "      <td>21781</td>\n",
       "    </tr>\n",
       "  </tbody>\n",
       "</table>\n",
       "</div>"
      ],
      "text/plain": [
       "sex    Female   Male\n",
       "count   10771  21781"
      ]
     },
     "execution_count": 11,
     "metadata": {},
     "output_type": "execute_result"
    }
   ],
   "source": [
    "clean.data[\"sex\"].value_counts().sort_index().to_frame().T"
   ]
  },
  {
   "cell_type": "code",
   "execution_count": 12,
   "metadata": {
    "colab": {
     "base_uri": "https://localhost:8080/",
     "height": 110
    },
    "executionInfo": {
     "elapsed": 23,
     "status": "ok",
     "timestamp": 1701629837687,
     "user": {
      "displayName": "Adam Mabrouk",
      "userId": "04204959827212434409"
     },
     "user_tz": 0
    },
    "id": "gGq0tTkvpUAw",
    "outputId": "31a76813-68b5-46b6-bbe8-c0349fe6fc25",
    "tags": []
   },
   "outputs": [
    {
     "data": {
      "text/html": [
       "<div>\n",
       "<style scoped>\n",
       "    .dataframe tbody tr th:only-of-type {\n",
       "        vertical-align: middle;\n",
       "    }\n",
       "\n",
       "    .dataframe tbody tr th {\n",
       "        vertical-align: top;\n",
       "    }\n",
       "\n",
       "    .dataframe thead th {\n",
       "        text-align: right;\n",
       "    }\n",
       "</style>\n",
       "<table border=\"1\" class=\"dataframe\">\n",
       "  <thead>\n",
       "    <tr style=\"text-align: right;\">\n",
       "      <th>capital-gain</th>\n",
       "      <th>0</th>\n",
       "      <th>114</th>\n",
       "      <th>401</th>\n",
       "      <th>594</th>\n",
       "      <th>914</th>\n",
       "      <th>991</th>\n",
       "      <th>1055</th>\n",
       "      <th>1086</th>\n",
       "      <th>1111</th>\n",
       "      <th>1151</th>\n",
       "      <th>...</th>\n",
       "      <th>15831</th>\n",
       "      <th>18481</th>\n",
       "      <th>20051</th>\n",
       "      <th>22040</th>\n",
       "      <th>25124</th>\n",
       "      <th>25236</th>\n",
       "      <th>27828</th>\n",
       "      <th>34095</th>\n",
       "      <th>41310</th>\n",
       "      <th>99999</th>\n",
       "    </tr>\n",
       "  </thead>\n",
       "  <tbody>\n",
       "    <tr>\n",
       "      <th>count</th>\n",
       "      <td>29840</td>\n",
       "      <td>6</td>\n",
       "      <td>2</td>\n",
       "      <td>34</td>\n",
       "      <td>8</td>\n",
       "      <td>5</td>\n",
       "      <td>25</td>\n",
       "      <td>4</td>\n",
       "      <td>1</td>\n",
       "      <td>8</td>\n",
       "      <td>...</td>\n",
       "      <td>6</td>\n",
       "      <td>2</td>\n",
       "      <td>37</td>\n",
       "      <td>1</td>\n",
       "      <td>4</td>\n",
       "      <td>11</td>\n",
       "      <td>34</td>\n",
       "      <td>5</td>\n",
       "      <td>2</td>\n",
       "      <td>159</td>\n",
       "    </tr>\n",
       "  </tbody>\n",
       "</table>\n",
       "<p>1 rows × 119 columns</p>\n",
       "</div>"
      ],
      "text/plain": [
       "capital-gain  0      114    401    594    914    991    1055   1086   1111   \\\n",
       "count         29840      6      2     34      8      5     25      4      1   \n",
       "\n",
       "capital-gain  1151   ...  15831  18481  20051  22040  25124  25236  27828  \\\n",
       "count             8  ...      6      2     37      1      4     11     34   \n",
       "\n",
       "capital-gain  34095  41310  99999  \n",
       "count             5      2    159  \n",
       "\n",
       "[1 rows x 119 columns]"
      ]
     },
     "execution_count": 12,
     "metadata": {},
     "output_type": "execute_result"
    }
   ],
   "source": [
    "clean.data[\"capital-gain\"].value_counts().sort_index().to_frame().T"
   ]
  },
  {
   "cell_type": "code",
   "execution_count": 13,
   "metadata": {
    "colab": {
     "base_uri": "https://localhost:8080/",
     "height": 110
    },
    "executionInfo": {
     "elapsed": 23,
     "status": "ok",
     "timestamp": 1701629837687,
     "user": {
      "displayName": "Adam Mabrouk",
      "userId": "04204959827212434409"
     },
     "user_tz": 0
    },
    "id": "uX7efgkjpUC9",
    "outputId": "a800bcfc-bba4-42fe-ab0c-178857b2a723",
    "tags": []
   },
   "outputs": [
    {
     "data": {
      "text/html": [
       "<div>\n",
       "<style scoped>\n",
       "    .dataframe tbody tr th:only-of-type {\n",
       "        vertical-align: middle;\n",
       "    }\n",
       "\n",
       "    .dataframe tbody tr th {\n",
       "        vertical-align: top;\n",
       "    }\n",
       "\n",
       "    .dataframe thead th {\n",
       "        text-align: right;\n",
       "    }\n",
       "</style>\n",
       "<table border=\"1\" class=\"dataframe\">\n",
       "  <thead>\n",
       "    <tr style=\"text-align: right;\">\n",
       "      <th>capital-loss</th>\n",
       "      <th>0</th>\n",
       "      <th>155</th>\n",
       "      <th>213</th>\n",
       "      <th>323</th>\n",
       "      <th>419</th>\n",
       "      <th>625</th>\n",
       "      <th>653</th>\n",
       "      <th>810</th>\n",
       "      <th>880</th>\n",
       "      <th>974</th>\n",
       "      <th>...</th>\n",
       "      <th>2547</th>\n",
       "      <th>2559</th>\n",
       "      <th>2603</th>\n",
       "      <th>2754</th>\n",
       "      <th>2824</th>\n",
       "      <th>3004</th>\n",
       "      <th>3683</th>\n",
       "      <th>3770</th>\n",
       "      <th>3900</th>\n",
       "      <th>4356</th>\n",
       "    </tr>\n",
       "  </thead>\n",
       "  <tbody>\n",
       "    <tr>\n",
       "      <th>count</th>\n",
       "      <td>31034</td>\n",
       "      <td>1</td>\n",
       "      <td>4</td>\n",
       "      <td>3</td>\n",
       "      <td>3</td>\n",
       "      <td>12</td>\n",
       "      <td>3</td>\n",
       "      <td>2</td>\n",
       "      <td>6</td>\n",
       "      <td>2</td>\n",
       "      <td>...</td>\n",
       "      <td>4</td>\n",
       "      <td>12</td>\n",
       "      <td>5</td>\n",
       "      <td>2</td>\n",
       "      <td>10</td>\n",
       "      <td>2</td>\n",
       "      <td>2</td>\n",
       "      <td>2</td>\n",
       "      <td>2</td>\n",
       "      <td>3</td>\n",
       "    </tr>\n",
       "  </tbody>\n",
       "</table>\n",
       "<p>1 rows × 92 columns</p>\n",
       "</div>"
      ],
      "text/plain": [
       "capital-loss   0     155   213   323   419   625   653   810   880   974   \\\n",
       "count         31034     1     4     3     3    12     3     2     6     2   \n",
       "\n",
       "capital-loss  ...  2547  2559  2603  2754  2824  3004  3683  3770  3900  4356  \n",
       "count         ...     4    12     5     2    10     2     2     2     2     3  \n",
       "\n",
       "[1 rows x 92 columns]"
      ]
     },
     "execution_count": 13,
     "metadata": {},
     "output_type": "execute_result"
    }
   ],
   "source": [
    "clean.data[\"capital-loss\"].value_counts().sort_index().to_frame().T"
   ]
  },
  {
   "cell_type": "code",
   "execution_count": 14,
   "metadata": {
    "colab": {
     "base_uri": "https://localhost:8080/",
     "height": 110
    },
    "executionInfo": {
     "elapsed": 22,
     "status": "ok",
     "timestamp": 1701629837687,
     "user": {
      "displayName": "Adam Mabrouk",
      "userId": "04204959827212434409"
     },
     "user_tz": 0
    },
    "id": "Kex03RIrpUHU",
    "outputId": "a66c2fbe-e3d7-4b78-e7ca-628fbb59afd8",
    "tags": []
   },
   "outputs": [
    {
     "data": {
      "text/html": [
       "<div>\n",
       "<style scoped>\n",
       "    .dataframe tbody tr th:only-of-type {\n",
       "        vertical-align: middle;\n",
       "    }\n",
       "\n",
       "    .dataframe tbody tr th {\n",
       "        vertical-align: top;\n",
       "    }\n",
       "\n",
       "    .dataframe thead th {\n",
       "        text-align: right;\n",
       "    }\n",
       "</style>\n",
       "<table border=\"1\" class=\"dataframe\">\n",
       "  <thead>\n",
       "    <tr style=\"text-align: right;\">\n",
       "      <th>hours-per-week</th>\n",
       "      <th>1</th>\n",
       "      <th>2</th>\n",
       "      <th>3</th>\n",
       "      <th>4</th>\n",
       "      <th>5</th>\n",
       "      <th>6</th>\n",
       "      <th>7</th>\n",
       "      <th>8</th>\n",
       "      <th>9</th>\n",
       "      <th>10</th>\n",
       "      <th>...</th>\n",
       "      <th>89</th>\n",
       "      <th>90</th>\n",
       "      <th>91</th>\n",
       "      <th>92</th>\n",
       "      <th>94</th>\n",
       "      <th>95</th>\n",
       "      <th>96</th>\n",
       "      <th>97</th>\n",
       "      <th>98</th>\n",
       "      <th>99</th>\n",
       "    </tr>\n",
       "  </thead>\n",
       "  <tbody>\n",
       "    <tr>\n",
       "      <th>count</th>\n",
       "      <td>20</td>\n",
       "      <td>32</td>\n",
       "      <td>39</td>\n",
       "      <td>54</td>\n",
       "      <td>60</td>\n",
       "      <td>64</td>\n",
       "      <td>26</td>\n",
       "      <td>144</td>\n",
       "      <td>18</td>\n",
       "      <td>278</td>\n",
       "      <td>...</td>\n",
       "      <td>2</td>\n",
       "      <td>29</td>\n",
       "      <td>3</td>\n",
       "      <td>1</td>\n",
       "      <td>1</td>\n",
       "      <td>2</td>\n",
       "      <td>5</td>\n",
       "      <td>2</td>\n",
       "      <td>11</td>\n",
       "      <td>85</td>\n",
       "    </tr>\n",
       "  </tbody>\n",
       "</table>\n",
       "<p>1 rows × 94 columns</p>\n",
       "</div>"
      ],
      "text/plain": [
       "hours-per-week  1   2   3   4   5   6   7    8   9    10  ...  89  90  91  92  \\\n",
       "count           20  32  39  54  60  64  26  144  18  278  ...   2  29   3   1   \n",
       "\n",
       "hours-per-week  94  95  96  97  98  99  \n",
       "count            1   2   5   2  11  85  \n",
       "\n",
       "[1 rows x 94 columns]"
      ]
     },
     "execution_count": 14,
     "metadata": {},
     "output_type": "execute_result"
    }
   ],
   "source": [
    "clean.data[\"hours-per-week\"].value_counts().sort_index().to_frame().T"
   ]
  },
  {
   "cell_type": "code",
   "execution_count": 15,
   "metadata": {
    "colab": {
     "base_uri": "https://localhost:8080/",
     "height": 165
    },
    "executionInfo": {
     "elapsed": 21,
     "status": "ok",
     "timestamp": 1701629837687,
     "user": {
      "displayName": "Adam Mabrouk",
      "userId": "04204959827212434409"
     },
     "user_tz": 0
    },
    "id": "x1Yw976joc7Q",
    "outputId": "ce6182f0-c845-43e7-ec48-cf67d0efa077",
    "tags": []
   },
   "outputs": [
    {
     "data": {
      "text/html": [
       "<div>\n",
       "<style scoped>\n",
       "    .dataframe tbody tr th:only-of-type {\n",
       "        vertical-align: middle;\n",
       "    }\n",
       "\n",
       "    .dataframe tbody tr th {\n",
       "        vertical-align: top;\n",
       "    }\n",
       "\n",
       "    .dataframe thead th {\n",
       "        text-align: right;\n",
       "    }\n",
       "</style>\n",
       "<table border=\"1\" class=\"dataframe\">\n",
       "  <thead>\n",
       "    <tr style=\"text-align: right;\">\n",
       "      <th>native-country</th>\n",
       "      <th>Cambodia</th>\n",
       "      <th>Canada</th>\n",
       "      <th>China</th>\n",
       "      <th>Columbia</th>\n",
       "      <th>Cuba</th>\n",
       "      <th>Dominican-Republic</th>\n",
       "      <th>Ecuador</th>\n",
       "      <th>El-Salvador</th>\n",
       "      <th>England</th>\n",
       "      <th>France</th>\n",
       "      <th>...</th>\n",
       "      <th>Puerto-Rico</th>\n",
       "      <th>Scotland</th>\n",
       "      <th>South</th>\n",
       "      <th>Taiwan</th>\n",
       "      <th>Thailand</th>\n",
       "      <th>Trinadad&amp;Tobago</th>\n",
       "      <th>United-States</th>\n",
       "      <th>Unknown</th>\n",
       "      <th>Vietnam</th>\n",
       "      <th>Yugoslavia</th>\n",
       "    </tr>\n",
       "  </thead>\n",
       "  <tbody>\n",
       "    <tr>\n",
       "      <th>count</th>\n",
       "      <td>19</td>\n",
       "      <td>121</td>\n",
       "      <td>75</td>\n",
       "      <td>59</td>\n",
       "      <td>95</td>\n",
       "      <td>70</td>\n",
       "      <td>28</td>\n",
       "      <td>106</td>\n",
       "      <td>90</td>\n",
       "      <td>29</td>\n",
       "      <td>...</td>\n",
       "      <td>114</td>\n",
       "      <td>12</td>\n",
       "      <td>80</td>\n",
       "      <td>51</td>\n",
       "      <td>18</td>\n",
       "      <td>19</td>\n",
       "      <td>29161</td>\n",
       "      <td>583</td>\n",
       "      <td>67</td>\n",
       "      <td>16</td>\n",
       "    </tr>\n",
       "  </tbody>\n",
       "</table>\n",
       "<p>1 rows × 42 columns</p>\n",
       "</div>"
      ],
      "text/plain": [
       "native-country  Cambodia  Canada  China  Columbia  Cuba  Dominican-Republic  \\\n",
       "count                 19     121     75        59    95                  70   \n",
       "\n",
       "native-country  Ecuador  El-Salvador  England  France  ...  Puerto-Rico  \\\n",
       "count                28          106       90      29  ...          114   \n",
       "\n",
       "native-country  Scotland  South  Taiwan  Thailand  Trinadad&Tobago  \\\n",
       "count                 12     80      51        18               19   \n",
       "\n",
       "native-country  United-States  Unknown  Vietnam  Yugoslavia  \n",
       "count                   29161      583       67          16  \n",
       "\n",
       "[1 rows x 42 columns]"
      ]
     },
     "execution_count": 15,
     "metadata": {},
     "output_type": "execute_result"
    }
   ],
   "source": [
    "clean.data[\"native-country\"].value_counts().sort_index().to_frame().T"
   ]
  },
  {
   "cell_type": "code",
   "execution_count": 16,
   "metadata": {
    "colab": {
     "base_uri": "https://localhost:8080/",
     "height": 81
    },
    "executionInfo": {
     "elapsed": 21,
     "status": "ok",
     "timestamp": 1701629837687,
     "user": {
      "displayName": "Adam Mabrouk",
      "userId": "04204959827212434409"
     },
     "user_tz": 0
    },
    "id": "XORNPsoEqw1y",
    "outputId": "3e4990de-c034-4f93-c863-ba3be752b3b3",
    "tags": []
   },
   "outputs": [
    {
     "data": {
      "text/html": [
       "<div>\n",
       "<style scoped>\n",
       "    .dataframe tbody tr th:only-of-type {\n",
       "        vertical-align: middle;\n",
       "    }\n",
       "\n",
       "    .dataframe tbody tr th {\n",
       "        vertical-align: top;\n",
       "    }\n",
       "\n",
       "    .dataframe thead th {\n",
       "        text-align: right;\n",
       "    }\n",
       "</style>\n",
       "<table border=\"1\" class=\"dataframe\">\n",
       "  <thead>\n",
       "    <tr style=\"text-align: right;\">\n",
       "      <th>income</th>\n",
       "      <th>0</th>\n",
       "      <th>1</th>\n",
       "    </tr>\n",
       "  </thead>\n",
       "  <tbody>\n",
       "    <tr>\n",
       "      <th>count</th>\n",
       "      <td>24712</td>\n",
       "      <td>7840</td>\n",
       "    </tr>\n",
       "  </tbody>\n",
       "</table>\n",
       "</div>"
      ],
      "text/plain": [
       "income      0     1\n",
       "count   24712  7840"
      ]
     },
     "execution_count": 16,
     "metadata": {},
     "output_type": "execute_result"
    }
   ],
   "source": [
    "clean.data[\"income\"].value_counts().sort_index().to_frame().T"
   ]
  },
  {
   "cell_type": "code",
   "execution_count": null,
   "metadata": {},
   "outputs": [],
   "source": []
  }
 ],
 "metadata": {
  "colab": {
   "machine_shape": "hm",
   "provenance": []
  },
  "kernelspec": {
   "display_name": "Python 3 (ipykernel)",
   "language": "python",
   "name": "python3"
  },
  "language_info": {
   "codemirror_mode": {
    "name": "ipython",
    "version": 3
   },
   "file_extension": ".py",
   "mimetype": "text/x-python",
   "name": "python",
   "nbconvert_exporter": "python",
   "pygments_lexer": "ipython3",
   "version": "3.11.5"
  }
 },
 "nbformat": 4,
 "nbformat_minor": 4
}
