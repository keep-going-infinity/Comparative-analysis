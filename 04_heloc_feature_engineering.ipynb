{
 "cells": [
  {
   "cell_type": "code",
   "execution_count": 1,
   "metadata": {
    "colab": {
     "base_uri": "https://localhost:8080/"
    },
    "executionInfo": {
     "elapsed": 14477,
     "status": "ok",
     "timestamp": 1701770928692,
     "user": {
      "displayName": "Adam Mabrouk",
      "userId": "04204959827212434409"
     },
     "user_tz": 0
    },
    "id": "Ceas7_toh5_E",
    "outputId": "becfb998-86f2-4189-f8bb-c50efd336725",
    "tags": []
   },
   "outputs": [],
   "source": [
    "# -----------------------------------------------------------\n",
    "# Dissertation Project: An Empirical Study on the Classification \n",
    "# Performance of Deep Learning vs. Gradient Boosting \n",
    "# on heterogeneous tabular data\n",
    "#\n",
    "# This notebook provides functions for the preprocessing of the \n",
    "# Heloc dataset. \n",
    "#\n",
    "# Author: Adam Mabrouk\n",
    "# Supervisor: Ben Ralph\n",
    "# Institution: University of Bath\n",
    "# Created on: 01/01/2024\n",
    "# Version: 1.0 \n",
    "\n",
    "# Acknowledgments:\n",
    "\n",
    "# The cleaning pipeline is based on the literature (not code)\n",
    "# of Authors: Shi, S., Tse, R., Luo, W., D’Addona, \n",
    "# S. and Pau, G., 2022. Machine learning-driven credit risk: \n",
    "# a systemic review. Neural Computing and Applications, 34(17), \n",
    "# pp.14327-14339.\n",
    "\n",
    "# Bonacci, A., Petrillo, P. & Reitano, A., Year of Publication. \n",
    "# Credit Risk Prediction - HELOC Case. [pdf] \n",
    "# Available at: credit_risk_prediction_heloc_case.pdf [01.06.2023].\n",
    "\n",
    "# Libraries and versions\n",
    "# ----------------------\n",
    "# Python version: 3.11.5 \n",
    "# numpy: 1.24.3\n",
    "# pandas: 2.0.3\n",
    "\n",
    "# Import standard libraries for data handling,\n",
    "import pandas as pd\n",
    "import numpy as np"
   ]
  },
  {
   "cell_type": "code",
   "execution_count": 2,
   "metadata": {
    "id": "657FWfD5arsH",
    "tags": []
   },
   "outputs": [],
   "source": [
    "class FeatureEngineer():\n",
    "    \"\"\"The feature engineering class for the Heloc dataset is based on the literature by Bonacci et al. (2023).\n",
    "    Below shows 6 feature adaptions from the authors literature (not code provided, literature only).\"\"\"\n",
    "\n",
    "    def __init__(self, heloc_file_path):\n",
    "        \"\"\"\n",
    "        Args:\n",
    "            heloc_file_path 'heloc_cleaned.csv' (str).\n",
    "        \"\"\"\n",
    "        self.heloc_file_path = heloc_file_path\n",
    "        self.data = pd.read_csv(self.heloc_file_path, low_memory=False)\n",
    "        self.initial_column_count = len(self.data.columns)\n",
    "\n",
    "    def percenttradesneverdelq(self):\n",
    "        \"\"\"\n",
    "        Bins and encodes the 'PercentTradesNeverDelq' feature into categorical ranges.\n",
    "        \"\"\"\n",
    "        bins = [0, 10, 20, 30, 40, 50, 60, 70, 80, 90, 100]\n",
    "        labels = ['0-10%', '11-20%', '21-30%', '31-40%', '41-50%', '51-60%', '61-70%', '71-80%', '81-90%', '91-100%']\n",
    "        self.data[\"PercentTradesNeverDelq\"] = pd.cut(self.data[\"PercentTradesNeverDelq\"], bins=bins, labels=labels, include_lowest=True)\n",
    "        mapping = {'0-10%': 0, '11-20%': 1, '21-30%': 2, '31-40%': 3, '41-50%': 4, '51-60%': 5, '61-70%': 6, '71-80%': 7, '81-90%': 8, '91-100%': 9}\n",
    "        self.data[\"PercentTradesNeverDelq\"] = self.data[\"PercentTradesNeverDelq\"].map(mapping)\n",
    "\n",
    "    def netfractionrevolvingburden(self):\n",
    "        \"\"\"\n",
    "        Categorizes 'NetFractionRevolvingBurden' into levels of financial burden: low, medium, and high.\n",
    "        \"\"\"\n",
    "        bins = [0, 40, 80, np.inf]\n",
    "        labels = ['0-40_Low', '41-80_Medium', 'MoreThan_80_High']\n",
    "        self.data[\"NetFractionRevolvingBurden\"] = pd.cut(self.data[\"NetFractionRevolvingBurden\"], bins=bins, labels=labels, include_lowest=True)\n",
    "        mapping = {'0-40_Low': 0, '41-80_Medium': 1, 'MoreThan_80_High': 2}\n",
    "        self.data[\"NetFractionRevolvingBurden\"] = self.data[\"NetFractionRevolvingBurden\"].map(mapping)\n",
    "\n",
    "    def msincemostrecentdelq(self):\n",
    "        \"\"\"\n",
    "        Bins the 'MSinceMostRecentDelq' feature into monthly periods.\n",
    "        \"\"\"\n",
    "        bins = [0, 6, 12, 18, 24, 30, 36, 42, 48, 54, 60, 66, 72, 78, 84]\n",
    "        labels = ['0-6_Months', '7-12_Months', '13-18_Months',\n",
    "                  '19-24_Months', '25-30_Months', '31-36_Months',\n",
    "                  '37-42_Months', '43-48_Months', '49-54_Months',\n",
    "                  '55-60_Months', '61-66_Months', '67-72_Months', '73-78_Months', '79-84_Months']\n",
    "        \n",
    "        self.data[\"MSinceMostRecentDelq\"] = pd.cut(self.data[\"MSinceMostRecentDelq\"], bins=bins, labels=labels, include_lowest=True)\n",
    "        \n",
    "        mapping = {'0-6_Months': 0, '7-12_Months': 1, '13-18_Months': 2, '19-24_Months': 3, '25-30_Months': 4,\n",
    "                    '31-36_Months': 5, '37-42_Months': 6, '43-48_Months': 7, '49-54_Months': 8, '55-60_Months': 9,\n",
    "                    '61-66_Months': 10, '67-72_Months': 11, '73-78_Months': 12, '79-84_Months': 13}\n",
    "        self.data[\"MSinceMostRecentDelq\"] = self.data[\"MSinceMostRecentDelq\"].map(mapping)\n",
    "\n",
    "    def externalriskestimate(self):\n",
    "        \"\"\"\n",
    "        Categorizes the 'ExternalRiskEstimate' feature into 4 risk levels.\n",
    "        \"\"\"\n",
    "        bins = [0, 60, 70, 80, 100]\n",
    "        labels = ['0-61_HighRisk', '62-73_MediumRisk', '74-86_LowRisk', '87-100_VeryLowRisk']\n",
    "        self.data[\"ExternalRiskEstimate\"] = pd.cut(self.data[\"ExternalRiskEstimate\"], bins=bins, labels=labels, include_lowest=True)\n",
    "        mapping = {'0-61_HighRisk': 0, '62-73_MediumRisk': 1, '74-86_LowRisk': 2, '87-100_VeryLowRisk': 3}\n",
    "        self.data[\"ExternalRiskEstimate\"] = self.data[\"ExternalRiskEstimate\"].map(mapping)\n",
    "\n",
    "    def maxdelq2publicreclast12m(self):\n",
    "        \"\"\"\n",
    "        Bins and labels 'MaxDelq2PublicRecLast12M' into categories based on \n",
    "        3 types of delinquency behavior (mentioned below).\n",
    "        \"\"\"\n",
    "        bins = [0, 4, 6, 7]  \n",
    "        labels = ['Bad Behavior', 'Unknown Delinquency', 'Never Delinquent']\n",
    "        self.data['MaxDelq2PublicRecLast12M'] = pd.cut(self.data['MaxDelq2PublicRecLast12M'], bins=bins, labels=labels, include_lowest=True)\n",
    "\n",
    "        mapping = {'Bad Behavior': 0, 'Unknown Delinquency': 1, 'Never Delinquent': 2}\n",
    "        self.data['MaxDelq2PublicRecLast12M'] = self.data['MaxDelq2PublicRecLast12M'].map(mapping)\n",
    "\n",
    "    def maxdelqever(self):\n",
    "        \"\"\"\n",
    "        Categorizes the 'MaxDelqEver' feature into bins reflecting delinquency status,\n",
    "        9 is excluded in this method, as it has an ambiguios meaning, 8 is never delinquent.\n",
    "        \"\"\"\n",
    "        bins = [2, 6, 7, 8]  \n",
    "        labels = ['Bad_Behavior', 'Unknown_Delinquency', 'Never_Delinquent']\n",
    "        self.data['MaxDelqEver'] = pd.cut(self.data['MaxDelqEver'], bins=bins, labels=labels, include_lowest=True)\n",
    "\n",
    "        mapping = {'Bad_Behavior': 0, 'Unknown_Delinquency': 1, 'Never_Delinquent': 2}\n",
    "        self.data['MaxDelqEver'] = self.data['MaxDelqEver'].map(mapping)\n",
    "        self.data = self.data.dropna()\n",
    "\n",
    "    def save_data(self, file_path):\n",
    "        \"\"\"Args:\n",
    "            file_path (str): Updated Heloc feature engineered dataset 'heloc_feature_engineered.csv' \"\"\"\n",
    "        self.data.to_csv(file_path, index=False)\n",
    "\n",
    "    def features_complete(self):\n",
    "        \"\"\"\n",
    "        This function enables the user to runs all feature engineering methods which have been used in the dataset.\n",
    "        \"\"\"\n",
    "        self.percenttradesneverdelq()\n",
    "        self.netfractionrevolvingburden()\n",
    "        self.msincemostrecentdelq()\n",
    "        self.externalriskestimate()\n",
    "        self.maxdelq2publicreclast12m()\n",
    "        self.maxdelqever()\n",
    "\n",
    "feature = FeatureEngineer(\"cleaned_data/heloc_cleaned.csv\")\n",
    "feature.features_complete()\n",
    "feature.save_data(\"feature_engineered_model_data/heloc_feature_engineered.csv\")"
   ]
  },
  {
   "cell_type": "code",
   "execution_count": 3,
   "metadata": {
    "colab": {
     "base_uri": "https://localhost:8080/",
     "height": 444
    },
    "executionInfo": {
     "elapsed": 477,
     "status": "ok",
     "timestamp": 1701628903501,
     "user": {
      "displayName": "Adam Mabrouk",
      "userId": "04204959827212434409"
     },
     "user_tz": 0
    },
    "id": "K4bY8EPI6QYb",
    "outputId": "f5f81ebd-7d61-466b-9934-0f947610aff3",
    "tags": []
   },
   "outputs": [
    {
     "data": {
      "text/html": [
       "<div>\n",
       "<style scoped>\n",
       "    .dataframe tbody tr th:only-of-type {\n",
       "        vertical-align: middle;\n",
       "    }\n",
       "\n",
       "    .dataframe tbody tr th {\n",
       "        vertical-align: top;\n",
       "    }\n",
       "\n",
       "    .dataframe thead th {\n",
       "        text-align: right;\n",
       "    }\n",
       "</style>\n",
       "<table border=\"1\" class=\"dataframe\">\n",
       "  <thead>\n",
       "    <tr style=\"text-align: right;\">\n",
       "      <th></th>\n",
       "      <th>RiskPerformance</th>\n",
       "      <th>ExternalRiskEstimate</th>\n",
       "      <th>MSinceOldestTradeOpen</th>\n",
       "      <th>MSinceMostRecentTradeOpen</th>\n",
       "      <th>AverageMInFile</th>\n",
       "      <th>NumSatisfactoryTrades</th>\n",
       "      <th>NumTrades60Ever2DerogPubRec</th>\n",
       "      <th>NumTrades90Ever2DerogPubRec</th>\n",
       "      <th>PercentTradesNeverDelq</th>\n",
       "      <th>MSinceMostRecentDelq</th>\n",
       "      <th>...</th>\n",
       "      <th>PercentInstallTrades</th>\n",
       "      <th>MSinceMostRecentInqexcl7days</th>\n",
       "      <th>NumInqLast6M</th>\n",
       "      <th>NumInqLast6Mexcl7days</th>\n",
       "      <th>NetFractionRevolvingBurden</th>\n",
       "      <th>NetFractionInstallBurden</th>\n",
       "      <th>NumRevolvingTradesWBalance</th>\n",
       "      <th>NumInstallTradesWBalance</th>\n",
       "      <th>NumBank2NatlTradesWHighUtilization</th>\n",
       "      <th>PercentTradesWBalance</th>\n",
       "    </tr>\n",
       "  </thead>\n",
       "  <tbody>\n",
       "    <tr>\n",
       "      <th>0</th>\n",
       "      <td>0</td>\n",
       "      <td>0</td>\n",
       "      <td>144.0</td>\n",
       "      <td>4.0</td>\n",
       "      <td>84.0</td>\n",
       "      <td>20.0</td>\n",
       "      <td>3.0</td>\n",
       "      <td>0.0</td>\n",
       "      <td>8</td>\n",
       "      <td>0</td>\n",
       "      <td>...</td>\n",
       "      <td>43.0</td>\n",
       "      <td>0.0</td>\n",
       "      <td>0.0</td>\n",
       "      <td>0.0</td>\n",
       "      <td>0</td>\n",
       "      <td>74.0</td>\n",
       "      <td>8.0</td>\n",
       "      <td>1.0</td>\n",
       "      <td>1.0</td>\n",
       "      <td>69.0</td>\n",
       "    </tr>\n",
       "    <tr>\n",
       "      <th>1</th>\n",
       "      <td>0</td>\n",
       "      <td>1</td>\n",
       "      <td>58.0</td>\n",
       "      <td>15.0</td>\n",
       "      <td>41.0</td>\n",
       "      <td>2.0</td>\n",
       "      <td>4.0</td>\n",
       "      <td>4.0</td>\n",
       "      <td>9</td>\n",
       "      <td>13</td>\n",
       "      <td>...</td>\n",
       "      <td>67.0</td>\n",
       "      <td>0.0</td>\n",
       "      <td>0.0</td>\n",
       "      <td>0.0</td>\n",
       "      <td>0</td>\n",
       "      <td>74.0</td>\n",
       "      <td>0.0</td>\n",
       "      <td>2.0</td>\n",
       "      <td>1.0</td>\n",
       "      <td>0.0</td>\n",
       "    </tr>\n",
       "    <tr>\n",
       "      <th>2</th>\n",
       "      <td>0</td>\n",
       "      <td>1</td>\n",
       "      <td>66.0</td>\n",
       "      <td>5.0</td>\n",
       "      <td>24.0</td>\n",
       "      <td>9.0</td>\n",
       "      <td>0.0</td>\n",
       "      <td>0.0</td>\n",
       "      <td>9</td>\n",
       "      <td>13</td>\n",
       "      <td>...</td>\n",
       "      <td>44.0</td>\n",
       "      <td>0.0</td>\n",
       "      <td>4.0</td>\n",
       "      <td>4.0</td>\n",
       "      <td>1</td>\n",
       "      <td>66.0</td>\n",
       "      <td>4.0</td>\n",
       "      <td>2.0</td>\n",
       "      <td>1.0</td>\n",
       "      <td>86.0</td>\n",
       "    </tr>\n",
       "    <tr>\n",
       "      <th>3</th>\n",
       "      <td>0</td>\n",
       "      <td>1</td>\n",
       "      <td>169.0</td>\n",
       "      <td>1.0</td>\n",
       "      <td>73.0</td>\n",
       "      <td>28.0</td>\n",
       "      <td>1.0</td>\n",
       "      <td>1.0</td>\n",
       "      <td>9</td>\n",
       "      <td>12</td>\n",
       "      <td>...</td>\n",
       "      <td>57.0</td>\n",
       "      <td>0.0</td>\n",
       "      <td>5.0</td>\n",
       "      <td>4.0</td>\n",
       "      <td>1</td>\n",
       "      <td>83.0</td>\n",
       "      <td>6.0</td>\n",
       "      <td>4.0</td>\n",
       "      <td>3.0</td>\n",
       "      <td>91.0</td>\n",
       "    </tr>\n",
       "    <tr>\n",
       "      <th>4</th>\n",
       "      <td>0</td>\n",
       "      <td>3</td>\n",
       "      <td>333.0</td>\n",
       "      <td>27.0</td>\n",
       "      <td>132.0</td>\n",
       "      <td>12.0</td>\n",
       "      <td>0.0</td>\n",
       "      <td>0.0</td>\n",
       "      <td>9</td>\n",
       "      <td>13</td>\n",
       "      <td>...</td>\n",
       "      <td>25.0</td>\n",
       "      <td>0.0</td>\n",
       "      <td>1.0</td>\n",
       "      <td>1.0</td>\n",
       "      <td>1</td>\n",
       "      <td>89.0</td>\n",
       "      <td>3.0</td>\n",
       "      <td>1.0</td>\n",
       "      <td>0.0</td>\n",
       "      <td>80.0</td>\n",
       "    </tr>\n",
       "  </tbody>\n",
       "</table>\n",
       "<p>5 rows × 24 columns</p>\n",
       "</div>"
      ],
      "text/plain": [
       "   RiskPerformance ExternalRiskEstimate  MSinceOldestTradeOpen  \\\n",
       "0                0                    0                  144.0   \n",
       "1                0                    1                   58.0   \n",
       "2                0                    1                   66.0   \n",
       "3                0                    1                  169.0   \n",
       "4                0                    3                  333.0   \n",
       "\n",
       "   MSinceMostRecentTradeOpen  AverageMInFile  NumSatisfactoryTrades  \\\n",
       "0                        4.0            84.0                   20.0   \n",
       "1                       15.0            41.0                    2.0   \n",
       "2                        5.0            24.0                    9.0   \n",
       "3                        1.0            73.0                   28.0   \n",
       "4                       27.0           132.0                   12.0   \n",
       "\n",
       "   NumTrades60Ever2DerogPubRec  NumTrades90Ever2DerogPubRec  \\\n",
       "0                          3.0                          0.0   \n",
       "1                          4.0                          4.0   \n",
       "2                          0.0                          0.0   \n",
       "3                          1.0                          1.0   \n",
       "4                          0.0                          0.0   \n",
       "\n",
       "  PercentTradesNeverDelq MSinceMostRecentDelq  ... PercentInstallTrades  \\\n",
       "0                      8                    0  ...                 43.0   \n",
       "1                      9                   13  ...                 67.0   \n",
       "2                      9                   13  ...                 44.0   \n",
       "3                      9                   12  ...                 57.0   \n",
       "4                      9                   13  ...                 25.0   \n",
       "\n",
       "  MSinceMostRecentInqexcl7days  NumInqLast6M  NumInqLast6Mexcl7days  \\\n",
       "0                          0.0           0.0                    0.0   \n",
       "1                          0.0           0.0                    0.0   \n",
       "2                          0.0           4.0                    4.0   \n",
       "3                          0.0           5.0                    4.0   \n",
       "4                          0.0           1.0                    1.0   \n",
       "\n",
       "   NetFractionRevolvingBurden  NetFractionInstallBurden  \\\n",
       "0                           0                      74.0   \n",
       "1                           0                      74.0   \n",
       "2                           1                      66.0   \n",
       "3                           1                      83.0   \n",
       "4                           1                      89.0   \n",
       "\n",
       "   NumRevolvingTradesWBalance  NumInstallTradesWBalance  \\\n",
       "0                         8.0                       1.0   \n",
       "1                         0.0                       2.0   \n",
       "2                         4.0                       2.0   \n",
       "3                         6.0                       4.0   \n",
       "4                         3.0                       1.0   \n",
       "\n",
       "  NumBank2NatlTradesWHighUtilization  PercentTradesWBalance  \n",
       "0                                1.0                   69.0  \n",
       "1                                1.0                    0.0  \n",
       "2                                1.0                   86.0  \n",
       "3                                3.0                   91.0  \n",
       "4                                0.0                   80.0  \n",
       "\n",
       "[5 rows x 24 columns]"
      ]
     },
     "execution_count": 3,
     "metadata": {},
     "output_type": "execute_result"
    }
   ],
   "source": [
    "feature.data.head()"
   ]
  },
  {
   "cell_type": "markdown",
   "metadata": {},
   "source": [
    "#### Below is a closer analysis of the 6 features, including target variable and additional features of interest after processing. \n",
    "In summary 6 features were adjusted in this notebook.\n",
    "1. percenttradesneverdelq\n",
    "2. netfractionrevolvingburden\n",
    "3. self.msincemostrecentdelq\n",
    "4. externalriskestimate\n",
    "5. maxdelq2publicreclast12m\n",
    "6. maxdelqever"
   ]
  },
  {
   "cell_type": "code",
   "execution_count": 4,
   "metadata": {
    "colab": {
     "base_uri": "https://localhost:8080/",
     "height": 81
    },
    "executionInfo": {
     "elapsed": 47,
     "status": "ok",
     "timestamp": 1701628903502,
     "user": {
      "displayName": "Adam Mabrouk",
      "userId": "04204959827212434409"
     },
     "user_tz": 0
    },
    "id": "u1VDEZR68NFV",
    "outputId": "b775850b-5afa-4eda-90cf-fdc890ca6d01",
    "tags": []
   },
   "outputs": [
    {
     "data": {
      "text/html": [
       "<div>\n",
       "<style scoped>\n",
       "    .dataframe tbody tr th:only-of-type {\n",
       "        vertical-align: middle;\n",
       "    }\n",
       "\n",
       "    .dataframe tbody tr th {\n",
       "        vertical-align: top;\n",
       "    }\n",
       "\n",
       "    .dataframe thead th {\n",
       "        text-align: right;\n",
       "    }\n",
       "</style>\n",
       "<table border=\"1\" class=\"dataframe\">\n",
       "  <thead>\n",
       "    <tr style=\"text-align: right;\">\n",
       "      <th>PercentTradesNeverDelq</th>\n",
       "      <th>0</th>\n",
       "      <th>1</th>\n",
       "      <th>2</th>\n",
       "      <th>3</th>\n",
       "      <th>4</th>\n",
       "      <th>5</th>\n",
       "      <th>6</th>\n",
       "      <th>7</th>\n",
       "      <th>8</th>\n",
       "      <th>9</th>\n",
       "    </tr>\n",
       "  </thead>\n",
       "  <tbody>\n",
       "    <tr>\n",
       "      <th>count</th>\n",
       "      <td>6</td>\n",
       "      <td>5</td>\n",
       "      <td>17</td>\n",
       "      <td>33</td>\n",
       "      <td>104</td>\n",
       "      <td>123</td>\n",
       "      <td>298</td>\n",
       "      <td>714</td>\n",
       "      <td>1465</td>\n",
       "      <td>7093</td>\n",
       "    </tr>\n",
       "  </tbody>\n",
       "</table>\n",
       "</div>"
      ],
      "text/plain": [
       "PercentTradesNeverDelq  0  1   2   3    4    5    6    7     8     9\n",
       "count                   6  5  17  33  104  123  298  714  1465  7093"
      ]
     },
     "execution_count": 4,
     "metadata": {},
     "output_type": "execute_result"
    }
   ],
   "source": [
    "feature.data['PercentTradesNeverDelq'].value_counts().sort_index().to_frame().T\n"
   ]
  },
  {
   "cell_type": "code",
   "execution_count": 5,
   "metadata": {
    "colab": {
     "base_uri": "https://localhost:8080/",
     "height": 81
    },
    "executionInfo": {
     "elapsed": 46,
     "status": "ok",
     "timestamp": 1701628903502,
     "user": {
      "displayName": "Adam Mabrouk",
      "userId": "04204959827212434409"
     },
     "user_tz": 0
    },
    "id": "AE2-u5gsZAVP",
    "outputId": "4c36ef95-9b09-4b03-dde9-7774d76c0a5a",
    "tags": []
   },
   "outputs": [
    {
     "data": {
      "text/html": [
       "<div>\n",
       "<style scoped>\n",
       "    .dataframe tbody tr th:only-of-type {\n",
       "        vertical-align: middle;\n",
       "    }\n",
       "\n",
       "    .dataframe tbody tr th {\n",
       "        vertical-align: top;\n",
       "    }\n",
       "\n",
       "    .dataframe thead th {\n",
       "        text-align: right;\n",
       "    }\n",
       "</style>\n",
       "<table border=\"1\" class=\"dataframe\">\n",
       "  <thead>\n",
       "    <tr style=\"text-align: right;\">\n",
       "      <th>NetFractionRevolvingBurden</th>\n",
       "      <th>0</th>\n",
       "      <th>1</th>\n",
       "      <th>2</th>\n",
       "    </tr>\n",
       "  </thead>\n",
       "  <tbody>\n",
       "    <tr>\n",
       "      <th>count</th>\n",
       "      <td>6090</td>\n",
       "      <td>2892</td>\n",
       "      <td>876</td>\n",
       "    </tr>\n",
       "  </tbody>\n",
       "</table>\n",
       "</div>"
      ],
      "text/plain": [
       "NetFractionRevolvingBurden     0     1    2\n",
       "count                       6090  2892  876"
      ]
     },
     "execution_count": 5,
     "metadata": {},
     "output_type": "execute_result"
    }
   ],
   "source": [
    "feature.data['NetFractionRevolvingBurden'].value_counts().sort_index().to_frame().T\n"
   ]
  },
  {
   "cell_type": "code",
   "execution_count": 6,
   "metadata": {
    "colab": {
     "base_uri": "https://localhost:8080/",
     "height": 81
    },
    "executionInfo": {
     "elapsed": 45,
     "status": "ok",
     "timestamp": 1701628903502,
     "user": {
      "displayName": "Adam Mabrouk",
      "userId": "04204959827212434409"
     },
     "user_tz": 0
    },
    "id": "UgP594l2ZAdV",
    "outputId": "d4f49963-16cd-4373-d5cb-7c1cd1ba7423",
    "tags": []
   },
   "outputs": [
    {
     "data": {
      "text/html": [
       "<div>\n",
       "<style scoped>\n",
       "    .dataframe tbody tr th:only-of-type {\n",
       "        vertical-align: middle;\n",
       "    }\n",
       "\n",
       "    .dataframe tbody tr th {\n",
       "        vertical-align: top;\n",
       "    }\n",
       "\n",
       "    .dataframe thead th {\n",
       "        text-align: right;\n",
       "    }\n",
       "</style>\n",
       "<table border=\"1\" class=\"dataframe\">\n",
       "  <thead>\n",
       "    <tr style=\"text-align: right;\">\n",
       "      <th>MSinceMostRecentDelq</th>\n",
       "      <th>0</th>\n",
       "      <th>1</th>\n",
       "      <th>2</th>\n",
       "      <th>3</th>\n",
       "      <th>4</th>\n",
       "      <th>5</th>\n",
       "      <th>6</th>\n",
       "      <th>7</th>\n",
       "      <th>8</th>\n",
       "      <th>9</th>\n",
       "      <th>10</th>\n",
       "      <th>11</th>\n",
       "      <th>12</th>\n",
       "      <th>13</th>\n",
       "    </tr>\n",
       "  </thead>\n",
       "  <tbody>\n",
       "    <tr>\n",
       "      <th>count</th>\n",
       "      <td>1706</td>\n",
       "      <td>774</td>\n",
       "      <td>538</td>\n",
       "      <td>430</td>\n",
       "      <td>358</td>\n",
       "      <td>265</td>\n",
       "      <td>248</td>\n",
       "      <td>189</td>\n",
       "      <td>159</td>\n",
       "      <td>145</td>\n",
       "      <td>133</td>\n",
       "      <td>125</td>\n",
       "      <td>82</td>\n",
       "      <td>4706</td>\n",
       "    </tr>\n",
       "  </tbody>\n",
       "</table>\n",
       "</div>"
      ],
      "text/plain": [
       "MSinceMostRecentDelq     0    1    2    3    4    5    6    7    8    9   10  \\\n",
       "count                 1706  774  538  430  358  265  248  189  159  145  133   \n",
       "\n",
       "MSinceMostRecentDelq   11  12    13  \n",
       "count                 125  82  4706  "
      ]
     },
     "execution_count": 6,
     "metadata": {},
     "output_type": "execute_result"
    }
   ],
   "source": [
    "feature.data['MSinceMostRecentDelq'].value_counts().sort_index().to_frame().T\n"
   ]
  },
  {
   "cell_type": "code",
   "execution_count": 7,
   "metadata": {
    "colab": {
     "base_uri": "https://localhost:8080/",
     "height": 81
    },
    "executionInfo": {
     "elapsed": 44,
     "status": "ok",
     "timestamp": 1701628903502,
     "user": {
      "displayName": "Adam Mabrouk",
      "userId": "04204959827212434409"
     },
     "user_tz": 0
    },
    "id": "jtIfvgnrZAim",
    "outputId": "b8dde049-4462-49e2-e2b1-75200ea3a392",
    "tags": []
   },
   "outputs": [
    {
     "data": {
      "text/html": [
       "<div>\n",
       "<style scoped>\n",
       "    .dataframe tbody tr th:only-of-type {\n",
       "        vertical-align: middle;\n",
       "    }\n",
       "\n",
       "    .dataframe tbody tr th {\n",
       "        vertical-align: top;\n",
       "    }\n",
       "\n",
       "    .dataframe thead th {\n",
       "        text-align: right;\n",
       "    }\n",
       "</style>\n",
       "<table border=\"1\" class=\"dataframe\">\n",
       "  <thead>\n",
       "    <tr style=\"text-align: right;\">\n",
       "      <th>ExternalRiskEstimate</th>\n",
       "      <th>0</th>\n",
       "      <th>1</th>\n",
       "      <th>2</th>\n",
       "      <th>3</th>\n",
       "    </tr>\n",
       "  </thead>\n",
       "  <tbody>\n",
       "    <tr>\n",
       "      <th>count</th>\n",
       "      <td>1313</td>\n",
       "      <td>3235</td>\n",
       "      <td>3000</td>\n",
       "      <td>2310</td>\n",
       "    </tr>\n",
       "  </tbody>\n",
       "</table>\n",
       "</div>"
      ],
      "text/plain": [
       "ExternalRiskEstimate     0     1     2     3\n",
       "count                 1313  3235  3000  2310"
      ]
     },
     "execution_count": 7,
     "metadata": {},
     "output_type": "execute_result"
    }
   ],
   "source": [
    "feature.data['ExternalRiskEstimate'].value_counts().sort_index().to_frame().T\n"
   ]
  },
  {
   "cell_type": "code",
   "execution_count": 8,
   "metadata": {
    "colab": {
     "base_uri": "https://localhost:8080/",
     "height": 81
    },
    "executionInfo": {
     "elapsed": 44,
     "status": "ok",
     "timestamp": 1701628903502,
     "user": {
      "displayName": "Adam Mabrouk",
      "userId": "04204959827212434409"
     },
     "user_tz": 0
    },
    "id": "62q6ob82ZAoU",
    "outputId": "f3c9f056-841f-4dd1-8681-420af5177b78",
    "tags": []
   },
   "outputs": [
    {
     "data": {
      "text/html": [
       "<div>\n",
       "<style scoped>\n",
       "    .dataframe tbody tr th:only-of-type {\n",
       "        vertical-align: middle;\n",
       "    }\n",
       "\n",
       "    .dataframe tbody tr th {\n",
       "        vertical-align: top;\n",
       "    }\n",
       "\n",
       "    .dataframe thead th {\n",
       "        text-align: right;\n",
       "    }\n",
       "</style>\n",
       "<table border=\"1\" class=\"dataframe\">\n",
       "  <thead>\n",
       "    <tr style=\"text-align: right;\">\n",
       "      <th>MaxDelq2PublicRecLast12M</th>\n",
       "      <th>0</th>\n",
       "      <th>1</th>\n",
       "      <th>2</th>\n",
       "    </tr>\n",
       "  </thead>\n",
       "  <tbody>\n",
       "    <tr>\n",
       "      <th>count</th>\n",
       "      <td>2275</td>\n",
       "      <td>3360</td>\n",
       "      <td>4223</td>\n",
       "    </tr>\n",
       "  </tbody>\n",
       "</table>\n",
       "</div>"
      ],
      "text/plain": [
       "MaxDelq2PublicRecLast12M     0     1     2\n",
       "count                     2275  3360  4223"
      ]
     },
     "execution_count": 8,
     "metadata": {},
     "output_type": "execute_result"
    }
   ],
   "source": [
    "feature.data['MaxDelq2PublicRecLast12M'].value_counts().sort_index().to_frame().T\n"
   ]
  },
  {
   "cell_type": "code",
   "execution_count": 9,
   "metadata": {
    "colab": {
     "base_uri": "https://localhost:8080/",
     "height": 81
    },
    "executionInfo": {
     "elapsed": 43,
     "status": "ok",
     "timestamp": 1701628903502,
     "user": {
      "displayName": "Adam Mabrouk",
      "userId": "04204959827212434409"
     },
     "user_tz": 0
    },
    "id": "VGIctwXfZAr9",
    "outputId": "13a89cfb-10b0-4426-9445-41c2fc7239c3",
    "tags": []
   },
   "outputs": [
    {
     "data": {
      "text/html": [
       "<div>\n",
       "<style scoped>\n",
       "    .dataframe tbody tr th:only-of-type {\n",
       "        vertical-align: middle;\n",
       "    }\n",
       "\n",
       "    .dataframe tbody tr th {\n",
       "        vertical-align: top;\n",
       "    }\n",
       "\n",
       "    .dataframe thead th {\n",
       "        text-align: right;\n",
       "    }\n",
       "</style>\n",
       "<table border=\"1\" class=\"dataframe\">\n",
       "  <thead>\n",
       "    <tr style=\"text-align: right;\">\n",
       "      <th>MaxDelqEver</th>\n",
       "      <th>0</th>\n",
       "      <th>1</th>\n",
       "      <th>2</th>\n",
       "    </tr>\n",
       "  </thead>\n",
       "  <tbody>\n",
       "    <tr>\n",
       "      <th>count</th>\n",
       "      <td>5202</td>\n",
       "      <td>132</td>\n",
       "      <td>4524</td>\n",
       "    </tr>\n",
       "  </tbody>\n",
       "</table>\n",
       "</div>"
      ],
      "text/plain": [
       "MaxDelqEver     0    1     2\n",
       "count        5202  132  4524"
      ]
     },
     "execution_count": 9,
     "metadata": {},
     "output_type": "execute_result"
    }
   ],
   "source": [
    "feature.data['MaxDelqEver'].value_counts().sort_index().to_frame().T\n"
   ]
  },
  {
   "cell_type": "code",
   "execution_count": 10,
   "metadata": {
    "colab": {
     "base_uri": "https://localhost:8080/",
     "height": 81
    },
    "executionInfo": {
     "elapsed": 43,
     "status": "ok",
     "timestamp": 1701628903503,
     "user": {
      "displayName": "Adam Mabrouk",
      "userId": "04204959827212434409"
     },
     "user_tz": 0
    },
    "id": "zr41Wt9iZAwu",
    "outputId": "ea6af698-464c-43cc-b9f7-cd9dbe1db4e2",
    "tags": []
   },
   "outputs": [
    {
     "data": {
      "text/html": [
       "<div>\n",
       "<style scoped>\n",
       "    .dataframe tbody tr th:only-of-type {\n",
       "        vertical-align: middle;\n",
       "    }\n",
       "\n",
       "    .dataframe tbody tr th {\n",
       "        vertical-align: top;\n",
       "    }\n",
       "\n",
       "    .dataframe thead th {\n",
       "        text-align: right;\n",
       "    }\n",
       "</style>\n",
       "<table border=\"1\" class=\"dataframe\">\n",
       "  <thead>\n",
       "    <tr style=\"text-align: right;\">\n",
       "      <th>RiskPerformance</th>\n",
       "      <th>0</th>\n",
       "      <th>1</th>\n",
       "    </tr>\n",
       "  </thead>\n",
       "  <tbody>\n",
       "    <tr>\n",
       "      <th>count</th>\n",
       "      <td>5126</td>\n",
       "      <td>4732</td>\n",
       "    </tr>\n",
       "  </tbody>\n",
       "</table>\n",
       "</div>"
      ],
      "text/plain": [
       "RiskPerformance     0     1\n",
       "count            5126  4732"
      ]
     },
     "execution_count": 10,
     "metadata": {},
     "output_type": "execute_result"
    }
   ],
   "source": [
    "feature.data['RiskPerformance'].value_counts().sort_index().to_frame().T\n"
   ]
  },
  {
   "cell_type": "code",
   "execution_count": 11,
   "metadata": {
    "colab": {
     "base_uri": "https://localhost:8080/",
     "height": 110
    },
    "executionInfo": {
     "elapsed": 42,
     "status": "ok",
     "timestamp": 1701628903503,
     "user": {
      "displayName": "Adam Mabrouk",
      "userId": "04204959827212434409"
     },
     "user_tz": 0
    },
    "id": "OnwHEXmDZO_b",
    "outputId": "1abbad97-8eb4-4de8-b370-a93a1d2b7343",
    "tags": []
   },
   "outputs": [
    {
     "data": {
      "text/html": [
       "<div>\n",
       "<style scoped>\n",
       "    .dataframe tbody tr th:only-of-type {\n",
       "        vertical-align: middle;\n",
       "    }\n",
       "\n",
       "    .dataframe tbody tr th {\n",
       "        vertical-align: top;\n",
       "    }\n",
       "\n",
       "    .dataframe thead th {\n",
       "        text-align: right;\n",
       "    }\n",
       "</style>\n",
       "<table border=\"1\" class=\"dataframe\">\n",
       "  <thead>\n",
       "    <tr style=\"text-align: right;\">\n",
       "      <th>MSinceOldestTradeOpen</th>\n",
       "      <th>2.0</th>\n",
       "      <th>4.0</th>\n",
       "      <th>5.0</th>\n",
       "      <th>6.0</th>\n",
       "      <th>7.0</th>\n",
       "      <th>8.0</th>\n",
       "      <th>9.0</th>\n",
       "      <th>10.0</th>\n",
       "      <th>11.0</th>\n",
       "      <th>12.0</th>\n",
       "      <th>...</th>\n",
       "      <th>566.0</th>\n",
       "      <th>584.0</th>\n",
       "      <th>586.0</th>\n",
       "      <th>589.0</th>\n",
       "      <th>590.0</th>\n",
       "      <th>598.0</th>\n",
       "      <th>603.0</th>\n",
       "      <th>604.0</th>\n",
       "      <th>789.0</th>\n",
       "      <th>803.0</th>\n",
       "    </tr>\n",
       "  </thead>\n",
       "  <tbody>\n",
       "    <tr>\n",
       "      <th>count</th>\n",
       "      <td>1</td>\n",
       "      <td>1</td>\n",
       "      <td>1</td>\n",
       "      <td>3</td>\n",
       "      <td>3</td>\n",
       "      <td>5</td>\n",
       "      <td>2</td>\n",
       "      <td>6</td>\n",
       "      <td>6</td>\n",
       "      <td>7</td>\n",
       "      <td>...</td>\n",
       "      <td>1</td>\n",
       "      <td>1</td>\n",
       "      <td>1</td>\n",
       "      <td>2</td>\n",
       "      <td>1</td>\n",
       "      <td>1</td>\n",
       "      <td>1</td>\n",
       "      <td>1</td>\n",
       "      <td>1</td>\n",
       "      <td>1</td>\n",
       "    </tr>\n",
       "  </tbody>\n",
       "</table>\n",
       "<p>1 rows × 524 columns</p>\n",
       "</div>"
      ],
      "text/plain": [
       "MSinceOldestTradeOpen  2.0    4.0    5.0    6.0    7.0    8.0    9.0    10.0   \\\n",
       "count                      1      1      1      3      3      5      2      6   \n",
       "\n",
       "MSinceOldestTradeOpen  11.0   12.0   ...  566.0  584.0  586.0  589.0  590.0  \\\n",
       "count                      6      7  ...      1      1      1      2      1   \n",
       "\n",
       "MSinceOldestTradeOpen  598.0  603.0  604.0  789.0  803.0  \n",
       "count                      1      1      1      1      1  \n",
       "\n",
       "[1 rows x 524 columns]"
      ]
     },
     "execution_count": 11,
     "metadata": {},
     "output_type": "execute_result"
    }
   ],
   "source": [
    "feature.data['MSinceOldestTradeOpen'].value_counts().sort_index().to_frame().T\n"
   ]
  },
  {
   "cell_type": "code",
   "execution_count": 12,
   "metadata": {
    "colab": {
     "base_uri": "https://localhost:8080/",
     "height": 110
    },
    "executionInfo": {
     "elapsed": 41,
     "status": "ok",
     "timestamp": 1701628903503,
     "user": {
      "displayName": "Adam Mabrouk",
      "userId": "04204959827212434409"
     },
     "user_tz": 0
    },
    "id": "cg4JwcUfZPCN",
    "outputId": "12e51b75-c887-4772-ad63-62f44dfcea35",
    "tags": []
   },
   "outputs": [
    {
     "data": {
      "text/html": [
       "<div>\n",
       "<style scoped>\n",
       "    .dataframe tbody tr th:only-of-type {\n",
       "        vertical-align: middle;\n",
       "    }\n",
       "\n",
       "    .dataframe tbody tr th {\n",
       "        vertical-align: top;\n",
       "    }\n",
       "\n",
       "    .dataframe thead th {\n",
       "        text-align: right;\n",
       "    }\n",
       "</style>\n",
       "<table border=\"1\" class=\"dataframe\">\n",
       "  <thead>\n",
       "    <tr style=\"text-align: right;\">\n",
       "      <th>MSinceMostRecentTradeOpen</th>\n",
       "      <th>0.0</th>\n",
       "      <th>1.0</th>\n",
       "      <th>2.0</th>\n",
       "      <th>3.0</th>\n",
       "      <th>4.0</th>\n",
       "      <th>5.0</th>\n",
       "      <th>6.0</th>\n",
       "      <th>7.0</th>\n",
       "      <th>8.0</th>\n",
       "      <th>9.0</th>\n",
       "      <th>...</th>\n",
       "      <th>138.0</th>\n",
       "      <th>143.0</th>\n",
       "      <th>145.0</th>\n",
       "      <th>152.0</th>\n",
       "      <th>156.0</th>\n",
       "      <th>163.0</th>\n",
       "      <th>178.0</th>\n",
       "      <th>184.0</th>\n",
       "      <th>207.0</th>\n",
       "      <th>227.0</th>\n",
       "    </tr>\n",
       "  </thead>\n",
       "  <tbody>\n",
       "    <tr>\n",
       "      <th>count</th>\n",
       "      <td>105</td>\n",
       "      <td>732</td>\n",
       "      <td>1160</td>\n",
       "      <td>1015</td>\n",
       "      <td>885</td>\n",
       "      <td>754</td>\n",
       "      <td>659</td>\n",
       "      <td>575</td>\n",
       "      <td>463</td>\n",
       "      <td>414</td>\n",
       "      <td>...</td>\n",
       "      <td>1</td>\n",
       "      <td>2</td>\n",
       "      <td>2</td>\n",
       "      <td>1</td>\n",
       "      <td>2</td>\n",
       "      <td>1</td>\n",
       "      <td>1</td>\n",
       "      <td>1</td>\n",
       "      <td>1</td>\n",
       "      <td>1</td>\n",
       "    </tr>\n",
       "  </tbody>\n",
       "</table>\n",
       "<p>1 rows × 108 columns</p>\n",
       "</div>"
      ],
      "text/plain": [
       "MSinceMostRecentTradeOpen  0.0    1.0    2.0    3.0    4.0    5.0    6.0    \\\n",
       "count                        105    732   1160   1015    885    754    659   \n",
       "\n",
       "MSinceMostRecentTradeOpen  7.0    8.0    9.0    ...  138.0  143.0  145.0  \\\n",
       "count                        575    463    414  ...      1      2      2   \n",
       "\n",
       "MSinceMostRecentTradeOpen  152.0  156.0  163.0  178.0  184.0  207.0  227.0  \n",
       "count                          1      2      1      1      1      1      1  \n",
       "\n",
       "[1 rows x 108 columns]"
      ]
     },
     "execution_count": 12,
     "metadata": {},
     "output_type": "execute_result"
    }
   ],
   "source": [
    "feature.data['MSinceMostRecentTradeOpen'].value_counts().sort_index().to_frame().T\n"
   ]
  },
  {
   "cell_type": "code",
   "execution_count": 13,
   "metadata": {
    "colab": {
     "base_uri": "https://localhost:8080/",
     "height": 81
    },
    "executionInfo": {
     "elapsed": 41,
     "status": "ok",
     "timestamp": 1701628903503,
     "user": {
      "displayName": "Adam Mabrouk",
      "userId": "04204959827212434409"
     },
     "user_tz": 0
    },
    "id": "7lQSq9RrZPGb",
    "outputId": "4f4dfdb4-57ab-4594-c61c-05f597ca188b",
    "tags": []
   },
   "outputs": [
    {
     "data": {
      "text/html": [
       "<div>\n",
       "<style scoped>\n",
       "    .dataframe tbody tr th:only-of-type {\n",
       "        vertical-align: middle;\n",
       "    }\n",
       "\n",
       "    .dataframe tbody tr th {\n",
       "        vertical-align: top;\n",
       "    }\n",
       "\n",
       "    .dataframe thead th {\n",
       "        text-align: right;\n",
       "    }\n",
       "</style>\n",
       "<table border=\"1\" class=\"dataframe\">\n",
       "  <thead>\n",
       "    <tr style=\"text-align: right;\">\n",
       "      <th>NumTrades60Ever2DerogPubRec</th>\n",
       "      <th>0.0</th>\n",
       "      <th>1.0</th>\n",
       "      <th>2.0</th>\n",
       "      <th>3.0</th>\n",
       "      <th>4.0</th>\n",
       "      <th>5.0</th>\n",
       "      <th>6.0</th>\n",
       "      <th>7.0</th>\n",
       "      <th>8.0</th>\n",
       "      <th>9.0</th>\n",
       "      <th>10.0</th>\n",
       "      <th>11.0</th>\n",
       "      <th>12.0</th>\n",
       "      <th>13.0</th>\n",
       "      <th>14.0</th>\n",
       "      <th>16.0</th>\n",
       "      <th>17.0</th>\n",
       "      <th>19.0</th>\n",
       "    </tr>\n",
       "  </thead>\n",
       "  <tbody>\n",
       "    <tr>\n",
       "      <th>count</th>\n",
       "      <td>6796</td>\n",
       "      <td>1799</td>\n",
       "      <td>691</td>\n",
       "      <td>244</td>\n",
       "      <td>148</td>\n",
       "      <td>72</td>\n",
       "      <td>37</td>\n",
       "      <td>30</td>\n",
       "      <td>11</td>\n",
       "      <td>8</td>\n",
       "      <td>8</td>\n",
       "      <td>4</td>\n",
       "      <td>3</td>\n",
       "      <td>2</td>\n",
       "      <td>2</td>\n",
       "      <td>1</td>\n",
       "      <td>1</td>\n",
       "      <td>1</td>\n",
       "    </tr>\n",
       "  </tbody>\n",
       "</table>\n",
       "</div>"
      ],
      "text/plain": [
       "NumTrades60Ever2DerogPubRec  0.0   1.0   2.0   3.0   4.0   5.0   6.0   7.0   \\\n",
       "count                        6796  1799   691   244   148    72    37    30   \n",
       "\n",
       "NumTrades60Ever2DerogPubRec  8.0   9.0   10.0  11.0  12.0  13.0  14.0  16.0  \\\n",
       "count                          11     8     8     4     3     2     2     1   \n",
       "\n",
       "NumTrades60Ever2DerogPubRec  17.0  19.0  \n",
       "count                           1     1  "
      ]
     },
     "execution_count": 13,
     "metadata": {},
     "output_type": "execute_result"
    }
   ],
   "source": [
    "feature.data['NumTrades60Ever2DerogPubRec'].value_counts().sort_index().to_frame().T\n"
   ]
  },
  {
   "cell_type": "code",
   "execution_count": 14,
   "metadata": {
    "colab": {
     "base_uri": "https://localhost:8080/",
     "height": 110
    },
    "executionInfo": {
     "elapsed": 40,
     "status": "ok",
     "timestamp": 1701628903503,
     "user": {
      "displayName": "Adam Mabrouk",
      "userId": "04204959827212434409"
     },
     "user_tz": 0
    },
    "id": "-K-rksEhZPK1",
    "outputId": "e5e6f70a-85a2-4625-da76-7b101f48f5a9",
    "tags": []
   },
   "outputs": [
    {
     "data": {
      "text/html": [
       "<div>\n",
       "<style scoped>\n",
       "    .dataframe tbody tr th:only-of-type {\n",
       "        vertical-align: middle;\n",
       "    }\n",
       "\n",
       "    .dataframe tbody tr th {\n",
       "        vertical-align: top;\n",
       "    }\n",
       "\n",
       "    .dataframe thead th {\n",
       "        text-align: right;\n",
       "    }\n",
       "</style>\n",
       "<table border=\"1\" class=\"dataframe\">\n",
       "  <thead>\n",
       "    <tr style=\"text-align: right;\">\n",
       "      <th>MSinceMostRecentInqexcl7days</th>\n",
       "      <th>0.0</th>\n",
       "      <th>1.0</th>\n",
       "      <th>2.0</th>\n",
       "      <th>3.0</th>\n",
       "      <th>4.0</th>\n",
       "      <th>5.0</th>\n",
       "      <th>6.0</th>\n",
       "      <th>7.0</th>\n",
       "      <th>8.0</th>\n",
       "      <th>9.0</th>\n",
       "      <th>...</th>\n",
       "      <th>16.0</th>\n",
       "      <th>17.0</th>\n",
       "      <th>18.0</th>\n",
       "      <th>19.0</th>\n",
       "      <th>20.0</th>\n",
       "      <th>21.0</th>\n",
       "      <th>22.0</th>\n",
       "      <th>23.0</th>\n",
       "      <th>24.0</th>\n",
       "      <th>25.0</th>\n",
       "    </tr>\n",
       "  </thead>\n",
       "  <tbody>\n",
       "    <tr>\n",
       "      <th>count</th>\n",
       "      <td>5050</td>\n",
       "      <td>614</td>\n",
       "      <td>377</td>\n",
       "      <td>308</td>\n",
       "      <td>268</td>\n",
       "      <td>191</td>\n",
       "      <td>150</td>\n",
       "      <td>139</td>\n",
       "      <td>112</td>\n",
       "      <td>99</td>\n",
       "      <td>...</td>\n",
       "      <td>49</td>\n",
       "      <td>42</td>\n",
       "      <td>34</td>\n",
       "      <td>45</td>\n",
       "      <td>31</td>\n",
       "      <td>32</td>\n",
       "      <td>35</td>\n",
       "      <td>32</td>\n",
       "      <td>8</td>\n",
       "      <td>1852</td>\n",
       "    </tr>\n",
       "  </tbody>\n",
       "</table>\n",
       "<p>1 rows × 26 columns</p>\n",
       "</div>"
      ],
      "text/plain": [
       "MSinceMostRecentInqexcl7days  0.0   1.0   2.0   3.0   4.0   5.0   6.0   7.0   \\\n",
       "count                         5050   614   377   308   268   191   150   139   \n",
       "\n",
       "MSinceMostRecentInqexcl7days  8.0   9.0   ...  16.0  17.0  18.0  19.0  20.0  \\\n",
       "count                          112    99  ...    49    42    34    45    31   \n",
       "\n",
       "MSinceMostRecentInqexcl7days  21.0  22.0  23.0  24.0  25.0  \n",
       "count                           32    35    32     8  1852  \n",
       "\n",
       "[1 rows x 26 columns]"
      ]
     },
     "execution_count": 14,
     "metadata": {},
     "output_type": "execute_result"
    }
   ],
   "source": [
    "feature.data['MSinceMostRecentInqexcl7days'].value_counts().sort_index().to_frame().T\n"
   ]
  },
  {
   "cell_type": "code",
   "execution_count": 15,
   "metadata": {
    "colab": {
     "base_uri": "https://localhost:8080/",
     "height": 110
    },
    "executionInfo": {
     "elapsed": 39,
     "status": "ok",
     "timestamp": 1701628903503,
     "user": {
      "displayName": "Adam Mabrouk",
      "userId": "04204959827212434409"
     },
     "user_tz": 0
    },
    "id": "bzFmoQ8jZPSz",
    "outputId": "b98936e4-2a68-41d6-d557-1c253b3bace5",
    "tags": []
   },
   "outputs": [
    {
     "data": {
      "text/html": [
       "<div>\n",
       "<style scoped>\n",
       "    .dataframe tbody tr th:only-of-type {\n",
       "        vertical-align: middle;\n",
       "    }\n",
       "\n",
       "    .dataframe tbody tr th {\n",
       "        vertical-align: top;\n",
       "    }\n",
       "\n",
       "    .dataframe thead th {\n",
       "        text-align: right;\n",
       "    }\n",
       "</style>\n",
       "<table border=\"1\" class=\"dataframe\">\n",
       "  <thead>\n",
       "    <tr style=\"text-align: right;\">\n",
       "      <th>NumInqLast6Mexcl7days</th>\n",
       "      <th>0.0</th>\n",
       "      <th>1.0</th>\n",
       "      <th>2.0</th>\n",
       "      <th>3.0</th>\n",
       "      <th>4.0</th>\n",
       "      <th>5.0</th>\n",
       "      <th>6.0</th>\n",
       "      <th>7.0</th>\n",
       "      <th>8.0</th>\n",
       "      <th>9.0</th>\n",
       "      <th>...</th>\n",
       "      <th>16.0</th>\n",
       "      <th>17.0</th>\n",
       "      <th>18.0</th>\n",
       "      <th>19.0</th>\n",
       "      <th>20.0</th>\n",
       "      <th>21.0</th>\n",
       "      <th>24.0</th>\n",
       "      <th>29.0</th>\n",
       "      <th>46.0</th>\n",
       "      <th>66.0</th>\n",
       "    </tr>\n",
       "  </thead>\n",
       "  <tbody>\n",
       "    <tr>\n",
       "      <th>count</th>\n",
       "      <td>4073</td>\n",
       "      <td>2527</td>\n",
       "      <td>1448</td>\n",
       "      <td>758</td>\n",
       "      <td>452</td>\n",
       "      <td>232</td>\n",
       "      <td>132</td>\n",
       "      <td>71</td>\n",
       "      <td>59</td>\n",
       "      <td>27</td>\n",
       "      <td>...</td>\n",
       "      <td>4</td>\n",
       "      <td>1</td>\n",
       "      <td>2</td>\n",
       "      <td>2</td>\n",
       "      <td>1</td>\n",
       "      <td>1</td>\n",
       "      <td>2</td>\n",
       "      <td>1</td>\n",
       "      <td>1</td>\n",
       "      <td>1</td>\n",
       "    </tr>\n",
       "  </tbody>\n",
       "</table>\n",
       "<p>1 rows × 26 columns</p>\n",
       "</div>"
      ],
      "text/plain": [
       "NumInqLast6Mexcl7days  0.0   1.0   2.0   3.0   4.0   5.0   6.0   7.0   8.0   \\\n",
       "count                  4073  2527  1448   758   452   232   132    71    59   \n",
       "\n",
       "NumInqLast6Mexcl7days  9.0   ...  16.0  17.0  18.0  19.0  20.0  21.0  24.0  \\\n",
       "count                    27  ...     4     1     2     2     1     1     2   \n",
       "\n",
       "NumInqLast6Mexcl7days  29.0  46.0  66.0  \n",
       "count                     1     1     1  \n",
       "\n",
       "[1 rows x 26 columns]"
      ]
     },
     "execution_count": 15,
     "metadata": {},
     "output_type": "execute_result"
    }
   ],
   "source": [
    "feature.data['NumInqLast6Mexcl7days'].value_counts().sort_index().to_frame().T\n"
   ]
  },
  {
   "cell_type": "code",
   "execution_count": null,
   "metadata": {},
   "outputs": [],
   "source": []
  }
 ],
 "metadata": {
  "colab": {
   "provenance": []
  },
  "kernelspec": {
   "display_name": "Python 3 (ipykernel)",
   "language": "python",
   "name": "python3"
  },
  "language_info": {
   "codemirror_mode": {
    "name": "ipython",
    "version": 3
   },
   "file_extension": ".py",
   "mimetype": "text/x-python",
   "name": "python",
   "nbconvert_exporter": "python",
   "pygments_lexer": "ipython3",
   "version": "3.11.5"
  }
 },
 "nbformat": 4,
 "nbformat_minor": 4
}
